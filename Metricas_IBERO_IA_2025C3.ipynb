{
  "cells": [
    {
      "cell_type": "markdown",
      "metadata": {
        "id": "view-in-github",
        "colab_type": "text"
      },
      "source": [
        "<a href=\"https://colab.research.google.com/github/YIYIOX/Pruebas/blob/main/Metricas_IBERO_IA_2025C3.ipynb\" target=\"_parent\"><img src=\"https://colab.research.google.com/assets/colab-badge.svg\" alt=\"Open In Colab\"/></a>"
      ]
    },
    {
      "cell_type": "markdown",
      "id": "6f6c5f11",
      "metadata": {
        "id": "6f6c5f11"
      },
      "source": [
        "#Modelos de Entrenamiento"
      ]
    },
    {
      "cell_type": "markdown",
      "id": "c7aea9ac",
      "metadata": {
        "id": "c7aea9ac"
      },
      "source": [
        "## <span style=\"color:green\">Regresión Lineal</span>"
      ]
    },
    {
      "cell_type": "markdown",
      "id": "59dacd5b-b83b-4d96-aacf-e90a7e7766b1",
      "metadata": {
        "id": "59dacd5b-b83b-4d96-aacf-e90a7e7766b1"
      },
      "source": [
        "**Modelo de Regresión Lineal**"
      ]
    },
    {
      "cell_type": "markdown",
      "id": "0d64ad1e",
      "metadata": {
        "id": "0d64ad1e"
      },
      "source": [
        "$ y = h_b(x) = b \\cdot x $"
      ]
    },
    {
      "cell_type": "markdown",
      "id": "eb65525c-31cd-48c7-b913-1fe4744cc467",
      "metadata": {
        "id": "eb65525c-31cd-48c7-b913-1fe4744cc467"
      },
      "source": [
        "**Ecuación del Promedio de la suma de los errores al cuadro**"
      ]
    },
    {
      "cell_type": "markdown",
      "id": "8282d158",
      "metadata": {
        "id": "8282d158"
      },
      "source": [
        "$ MSE(b) = \\frac{1}{m} \\sum_{i=1}^{m}(b^Tx^i-y^i)^2$"
      ]
    },
    {
      "cell_type": "markdown",
      "id": "2a9694b8-4982-432e-8565-d16430076d00",
      "metadata": {
        "id": "2a9694b8-4982-432e-8565-d16430076d00"
      },
      "source": [
        "**Ecuación Normal**"
      ]
    },
    {
      "cell_type": "markdown",
      "id": "25b53e16",
      "metadata": {
        "id": "25b53e16"
      },
      "source": [
        "$ \\hat{b} = (x^Tx)^{-1} x^T y $"
      ]
    },
    {
      "cell_type": "markdown",
      "id": "4cae840a-8ec4-4aa0-ae6b-4d43d5dfc05a",
      "metadata": {
        "id": "4cae840a-8ec4-4aa0-ae6b-4d43d5dfc05a"
      },
      "source": [
        "#### <span style=\"color:blue\"> Ecuación Normal </span>"
      ]
    },
    {
      "cell_type": "code",
      "execution_count": null,
      "id": "15a6195b",
      "metadata": {
        "id": "15a6195b"
      },
      "outputs": [],
      "source": [
        "# Importar las librerías, numpy, matplotlib, pandas\n",
        "# numpy es la bibleoteca por exelencia de matemáticas para python\n",
        "import numpy as np\n",
        "#Importar matplotlib porque vamos a estar haciendo gráficas\n",
        "import matplotlib.pyplot as plt\n",
        "import pandas as pd"
      ]
    },
    {
      "cell_type": "markdown",
      "source": [
        "# Compración entre numpy y listas"
      ],
      "metadata": {
        "id": "LATQT3v_Bh9l"
      },
      "id": "LATQT3v_Bh9l"
    },
    {
      "cell_type": "code",
      "source": [
        "#Costo computacional\n",
        "#Obtener el seno de una arreglo usando listas.\n",
        "import math\n",
        "import time\n",
        "x=[]\n",
        "inicio=time.time()\n",
        "for i in range(100000000):\n",
        "    x.append(math.sin(i))\n",
        "fin=time.time()\n",
        "print('El tiempo de ejecución fue: ', fin-inicio)\n",
        "#print(x)\n",
        "#print(type(x))"
      ],
      "metadata": {
        "colab": {
          "base_uri": "https://localhost:8080/"
        },
        "id": "Sg_dx1a8BlMG",
        "outputId": "cb72a5a9-7dc7-4d7c-c964-d4ec22789cc2"
      },
      "id": "Sg_dx1a8BlMG",
      "execution_count": null,
      "outputs": [
        {
          "output_type": "stream",
          "name": "stdout",
          "text": [
            "El tiempo de ejecución fue:  21.59329652786255\n"
          ]
        }
      ]
    },
    {
      "cell_type": "code",
      "source": [
        "xn=np.arange(100000000)\n",
        "inicio_n=time.time()\n",
        "np.sin(xn)\n",
        "fin_n=time.time()\n",
        "tiempo_n=fin_n-inicio_n\n",
        "print('El tiempo de ejecución fue: ', tiempo_n)\n"
      ],
      "metadata": {
        "colab": {
          "base_uri": "https://localhost:8080/"
        },
        "id": "J9R-9MQ9B-8N",
        "outputId": "c9be225b-2f6c-465e-f973-74b285a8ce18"
      },
      "id": "J9R-9MQ9B-8N",
      "execution_count": null,
      "outputs": [
        {
          "output_type": "stream",
          "name": "stdout",
          "text": [
            "El tiempo de ejecución fue:  2.201124906539917\n"
          ]
        }
      ]
    },
    {
      "cell_type": "code",
      "source": [],
      "metadata": {
        "id": "skMasdhfBhEz"
      },
      "id": "skMasdhfBhEz",
      "execution_count": null,
      "outputs": []
    },
    {
      "cell_type": "code",
      "execution_count": null,
      "id": "6f1e8b47-8c1f-4b16-bca8-db08b28e9d6c",
      "metadata": {
        "id": "6f1e8b47-8c1f-4b16-bca8-db08b28e9d6c",
        "colab": {
          "base_uri": "https://localhost:8080/"
        },
        "collapsed": true,
        "outputId": "bec1cdd7-e712-4429-ecd9-f2dca9f6b647"
      },
      "outputs": [
        {
          "output_type": "stream",
          "name": "stdout",
          "text": [
            "[[0.34935005]\n",
            " [0.43798341]\n",
            " [0.93894315]\n",
            " [0.61921067]\n",
            " [0.56918199]\n",
            " [0.49474229]\n",
            " [0.45499459]\n",
            " [0.32642022]\n",
            " [0.33748078]\n",
            " [0.35948048]\n",
            " [0.19588086]\n",
            " [0.71279404]\n",
            " [0.5632553 ]\n",
            " [0.30915174]\n",
            " [0.13946611]\n",
            " [0.7792447 ]\n",
            " [0.47526288]\n",
            " [0.97637801]\n",
            " [0.50103789]\n",
            " [0.47650372]\n",
            " [0.72358866]\n",
            " [0.80335333]\n",
            " [0.23163931]\n",
            " [0.63186856]\n",
            " [0.2326467 ]\n",
            " [0.29139989]\n",
            " [0.1815743 ]\n",
            " [0.77080506]\n",
            " [0.99698017]\n",
            " [0.30167051]\n",
            " [0.62953106]\n",
            " [0.13317912]\n",
            " [0.1072299 ]\n",
            " [0.90812604]\n",
            " [0.46298113]\n",
            " [0.74917499]\n",
            " [0.63442357]\n",
            " [0.92219747]\n",
            " [0.6262341 ]\n",
            " [0.30785688]\n",
            " [0.80413242]\n",
            " [0.34116871]\n",
            " [0.29066712]\n",
            " [0.37102429]\n",
            " [0.62447568]\n",
            " [0.13398265]\n",
            " [0.31384899]\n",
            " [0.76955966]\n",
            " [0.37696298]\n",
            " [0.79969466]\n",
            " [0.22660072]\n",
            " [0.33781556]\n",
            " [0.64823008]\n",
            " [0.56184016]\n",
            " [0.12199582]\n",
            " [0.77615076]\n",
            " [0.39891423]\n",
            " [0.50474086]\n",
            " [0.64829674]\n",
            " [0.38218833]\n",
            " [0.93508469]\n",
            " [0.92026319]\n",
            " [0.22573982]\n",
            " [0.05074923]\n",
            " [0.80337065]\n",
            " [0.37814285]\n",
            " [0.15146461]\n",
            " [0.98362146]\n",
            " [0.43563175]\n",
            " [0.50140853]\n",
            " [0.53863852]\n",
            " [0.99716953]\n",
            " [0.62535456]\n",
            " [0.53126072]\n",
            " [0.80044673]\n",
            " [0.31928055]\n",
            " [0.37607233]\n",
            " [0.72379833]\n",
            " [0.93005451]\n",
            " [0.50334193]\n",
            " [0.18402555]\n",
            " [0.38892865]\n",
            " [0.75478174]\n",
            " [0.50899062]\n",
            " [0.61536256]\n",
            " [0.6215112 ]\n",
            " [0.36681561]\n",
            " [0.53297829]\n",
            " [0.40835195]\n",
            " [0.93464933]\n",
            " [0.64382105]\n",
            " [0.38155413]\n",
            " [0.99924825]\n",
            " [0.55177901]\n",
            " [0.54550769]\n",
            " [0.15058863]\n",
            " [0.50584821]\n",
            " [0.03226189]\n",
            " [0.30551415]\n",
            " [0.44832787]]\n",
            "-----------------------\n",
            "[[4.69018053]\n",
            " [4.46485168]\n",
            " [6.75516656]\n",
            " [5.74248792]\n",
            " [5.53130944]\n",
            " [5.29490135]\n",
            " [4.46364717]\n",
            " [4.90974716]\n",
            " [4.45626516]\n",
            " [4.83974895]\n",
            " [3.70911365]\n",
            " [5.43233539]\n",
            " [5.66939485]\n",
            " [4.57008883]\n",
            " [4.04997134]\n",
            " [5.59678698]\n",
            " [5.14923183]\n",
            " [6.86327283]\n",
            " [5.09621774]\n",
            " [4.46765993]\n",
            " [5.56293816]\n",
            " [6.08822369]\n",
            " [4.40665425]\n",
            " [5.01836986]\n",
            " [4.47675326]\n",
            " [4.45933868]\n",
            " [4.1101842 ]\n",
            " [6.14394827]\n",
            " [6.41036158]\n",
            " [4.25635725]\n",
            " [5.36461856]\n",
            " [4.17895206]\n",
            " [3.53726196]\n",
            " [6.7187871 ]\n",
            " [4.46912807]\n",
            " [5.5245075 ]\n",
            " [5.14609574]\n",
            " [6.28399437]\n",
            " [4.97249756]\n",
            " [4.13192186]\n",
            " [5.54379431]\n",
            " [4.99697616]\n",
            " [4.73788696]\n",
            " [4.9931759 ]\n",
            " [5.27888661]\n",
            " [3.51031766]\n",
            " [4.23943939]\n",
            " [5.43488529]\n",
            " [4.48678996]\n",
            " [5.82262229]\n",
            " [4.15337249]\n",
            " [4.71311871]\n",
            " [5.52881195]\n",
            " [5.20132756]\n",
            " [4.11247667]\n",
            " [5.67547903]\n",
            " [5.16364747]\n",
            " [4.73516185]\n",
            " [5.54515955]\n",
            " [4.72125337]\n",
            " [5.83053336]\n",
            " [6.64150315]\n",
            " [4.14782792]\n",
            " [3.61179529]\n",
            " [5.66704842]\n",
            " [4.37974294]\n",
            " [3.77698387]\n",
            " [6.86878524]\n",
            " [4.94180078]\n",
            " [4.67324598]\n",
            " [5.35237184]\n",
            " [6.48605884]\n",
            " [5.49434005]\n",
            " [5.28586133]\n",
            " [6.16335093]\n",
            " [4.37046931]\n",
            " [4.51896721]\n",
            " [5.19467187]\n",
            " [6.05630976]\n",
            " [4.98843398]\n",
            " [4.22026554]\n",
            " [4.79973937]\n",
            " [5.65061862]\n",
            " [5.37292221]\n",
            " [5.40140931]\n",
            " [5.29062367]\n",
            " [4.12535124]\n",
            " [4.61165907]\n",
            " [4.59531143]\n",
            " [5.82860647]\n",
            " [5.18538091]\n",
            " [4.25217214]\n",
            " [6.46062264]\n",
            " [5.53913302]\n",
            " [5.01431149]\n",
            " [4.10149505]\n",
            " [5.30757241]\n",
            " [3.43609637]\n",
            " [4.59853224]\n",
            " [4.39270991]]\n"
          ]
        }
      ],
      "source": [
        "#Generar el set de datos lineales aleatorios\n",
        "x = np.random.rand(100,1)\n",
        "\n",
        "#Genera vector de valores que vas a estar prediciendo\n",
        "y = 3 + 3 * x + np.random.rand(100,1)\n",
        "print(x)\n",
        "print('-----------------------')\n",
        "print(y)"
      ]
    },
    {
      "cell_type": "code",
      "execution_count": null,
      "id": "67cbbac0-bb3c-446f-aa7e-a917fa222404",
      "metadata": {
        "id": "67cbbac0-bb3c-446f-aa7e-a917fa222404",
        "outputId": "9128c676-0deb-4dd8-e58a-935a8e7d1149",
        "colab": {
          "base_uri": "https://localhost:8080/",
          "height": 472
        }
      },
      "outputs": [
        {
          "output_type": "display_data",
          "data": {
            "text/plain": [
              "<Figure size 640x480 with 1 Axes>"
            ],
            "image/png": "[encoded data removed]"
          },
          "metadata": {}
        }
      ],
      "source": [
        "#Gráfica los datos del set de juguete\n",
        "plt.scatter(x,y)\n",
        "plt.xlabel('x')\n",
        "plt.ylabel('y')\n",
        "plt.title('Datos')\n",
        "plt.grid()\n",
        "plt.show()"
      ]
    },
    {
      "cell_type": "code",
      "execution_count": null,
      "id": "8192492d",
      "metadata": {
        "id": "8192492d",
        "outputId": "d066c6c3-00ed-4b91-9a7d-1562efcf5dba",
        "colab": {
          "base_uri": "https://localhost:8080/"
        }
      },
      "outputs": [
        {
          "output_type": "execute_result",
          "data": {
            "text/plain": [
              "array([[3.50335372],\n",
              "       [2.97650919]])"
            ]
          },
          "metadata": {},
          "execution_count": 20
        }
      ],
      "source": [
        "#Agregar el valor de x0\n",
        "x_b = np.c_[np.ones((100,1)),x]\n",
        "#Aplicar la ecuación normal\n",
        "param = np.linalg.inv(x_b.T.dot(x_b)).dot(x_b.T).dot(y)\n",
        "#Visualiza\n",
        "param"
      ]
    },
    {
      "cell_type": "markdown",
      "id": "2dae9649-e147-4b33-ac91-04c432acd125",
      "metadata": {
        "id": "2dae9649-e147-4b33-ac91-04c432acd125"
      },
      "source": [
        "Aquí no tendrán los mismos datos que yo, es normal por los factores de aleatoriedad"
      ]
    },
    {
      "cell_type": "markdown",
      "id": "c2a8d2d6-667b-49f1-9b23-66d26f11798c",
      "metadata": {
        "id": "c2a8d2d6-667b-49f1-9b23-66d26f11798c"
      },
      "source": [
        "El primer valor de la matriz es la pendiente y el segundo es la intersección"
      ]
    },
    {
      "cell_type": "code",
      "execution_count": null,
      "id": "61c44c9e-61ea-4112-b198-bc1a128a8e10",
      "metadata": {
        "id": "61c44c9e-61ea-4112-b198-bc1a128a8e10"
      },
      "outputs": [],
      "source": [
        "#Prueba estes datos con un vector de prueba\n",
        "x_nuevo = np.array([[0],[1]])"
      ]
    },
    {
      "cell_type": "code",
      "execution_count": null,
      "id": "955f34b4-96b8-4f14-b461-57e75328ac6b",
      "metadata": {
        "id": "955f34b4-96b8-4f14-b461-57e75328ac6b"
      },
      "outputs": [],
      "source": [
        "#Agregar X0=1\n",
        "x_nuevo_b = np.c_[np.ones((2,1)),x_nuevo]"
      ]
    },
    {
      "cell_type": "code",
      "execution_count": null,
      "id": "ba827be2-7e12-4f90-8d8c-c8cb3e50c166",
      "metadata": {
        "id": "ba827be2-7e12-4f90-8d8c-c8cb3e50c166",
        "outputId": "93b295f4-b45b-4dd5-d952-ff6121a26ed2",
        "colab": {
          "base_uri": "https://localhost:8080/"
        }
      },
      "outputs": [
        {
          "output_type": "execute_result",
          "data": {
            "text/plain": [
              "array([[3.50335372],\n",
              "       [6.47986291]])"
            ]
          },
          "metadata": {},
          "execution_count": 23
        }
      ],
      "source": [
        "#Hacer las predicciones con la ecuación normal\n",
        "y_pred = x_nuevo_b.dot(param)\n",
        "y_pred"
      ]
    },
    {
      "cell_type": "code",
      "execution_count": null,
      "id": "249e3f6b",
      "metadata": {
        "id": "249e3f6b",
        "outputId": "73612957-3b88-4fa3-ec99-cb5fa114e485",
        "colab": {
          "base_uri": "https://localhost:8080/",
          "height": 472
        }
      },
      "outputs": [
        {
          "output_type": "display_data",
          "data": {
            "text/plain": [
              "<Figure size 640x480 with 1 Axes>"
            ],
            "image/png": "[encoded data removed]"
          },
          "metadata": {}
        }
      ],
      "source": [
        "#Grafica la regresión con los datos originales y la predicción\n",
        "plt.plot(x_nuevo,y_pred,\"r-\",label=\"Predicción\")\n",
        "plt.scatter(x,y,label=\"Datos\")\n",
        "plt.xlabel('x')\n",
        "plt.ylabel('y')\n",
        "plt.title('Datos')\n",
        "plt.grid()\n",
        "plt.legend()\n",
        "plt.show()"
      ]
    },
    {
      "cell_type": "markdown",
      "id": "474d2741-8ce2-4e82-844a-d352901b4e8c",
      "metadata": {
        "id": "474d2741-8ce2-4e82-844a-d352901b4e8c"
      },
      "source": [
        "#### <span style=\"color:blue\"> Regresor Linear de Scikit </span>"
      ]
    },
    {
      "cell_type": "code",
      "execution_count": null,
      "id": "4a06bdb7",
      "metadata": {
        "id": "4a06bdb7",
        "outputId": "2193fa4b-455d-44be-8012-96242f1cfa9c",
        "colab": {
          "base_uri": "https://localhost:8080/"
        }
      },
      "outputs": [
        {
          "output_type": "execute_result",
          "data": {
            "text/plain": [
              "(array([3.50335372]), array([[2.97650919]]))"
            ]
          },
          "metadata": {},
          "execution_count": 25
        }
      ],
      "source": [
        "#Haz la regresión con scikit\n",
        "from sklearn.linear_model import LinearRegression\n",
        "reg_lin = LinearRegression()\n",
        "reg_lin.fit(x,y)\n",
        "#Cálcula la intersección y la pendiente con este método\n",
        "reg_lin.intercept_,reg_lin.coef_"
      ]
    },
    {
      "cell_type": "code",
      "source": [
        "#Graficar\n",
        "#Y=mx+b\n",
        "linea=reg_lin.coef_*x_nuevo+reg_lin.intercept_\n",
        "plt.plot(x_nuevo,linea,\"r-\",label=\"Predicción\")\n",
        "plt.scatter(x,y,label=\"Datos\")\n",
        "plt.xlabel('x')\n",
        "plt.ylabel('y')\n",
        "plt.title('Modelo de Sckit')\n",
        "plt.grid()\n",
        "plt.legend()\n",
        "plt.show()\n"
      ],
      "metadata": {
        "colab": {
          "base_uri": "https://localhost:8080/",
          "height": 472
        },
        "id": "n2dtWyAcFhvQ",
        "outputId": "6b159b62-5067-40ca-cfc4-37953650b270"
      },
      "id": "n2dtWyAcFhvQ",
      "execution_count": null,
      "outputs": [
        {
          "output_type": "display_data",
          "data": {
            "text/plain": [
              "<Figure size 640x480 with 1 Axes>"
            ],
            "image/png": "[encoded data removed]"
          },
          "metadata": {}
        }
      ]
    },
    {
      "cell_type": "markdown",
      "id": "c0a45cd5-3827-4ecf-b6d4-75c3ce1ce6cd",
      "metadata": {
        "id": "c0a45cd5-3827-4ecf-b6d4-75c3ce1ce6cd"
      },
      "source": [
        "Los parámetros son iguales a los que obtuvimos en el método anterior. En este caso, tendrías que evaluar el costo 💸 que implica cada método a tu computadora."
      ]
    },
    {
      "cell_type": "markdown",
      "source": [
        "#Ejemplo desde Sckit\n"
      ],
      "metadata": {
        "id": "FWfxxaauGlra"
      },
      "id": "FWfxxaauGlra"
    },
    {
      "cell_type": "code",
      "source": [
        "from sklearn.datasets import load_diabetes\n",
        "from sklearn.model_selection import train_test_split\n",
        "\n",
        "X, y = load_diabetes(return_X_y=True)\n",
        "X = X[:, [2]]  # Use only one feature\n",
        "X_train, X_test, y_train, y_test = train_test_split(X, y, test_size=20, shuffle=False)"
      ],
      "metadata": {
        "id": "hGFRFhSFGoDL"
      },
      "id": "hGFRFhSFGoDL",
      "execution_count": null,
      "outputs": []
    },
    {
      "cell_type": "code",
      "source": [
        "from sklearn.linear_model import LinearRegression\n",
        "\n",
        "regressor = LinearRegression().fit(X_train, y_train)"
      ],
      "metadata": {
        "id": "mSG-8bCVGpaJ"
      },
      "id": "mSG-8bCVGpaJ",
      "execution_count": null,
      "outputs": []
    },
    {
      "cell_type": "code",
      "source": [
        "from sklearn.metrics import mean_squared_error, r2_score\n",
        "\n",
        "y_pred = regressor.predict(X_test)\n",
        "\n",
        "print(f\"Mean squared error: {mean_squared_error(y_test, y_pred):.2f}\")\n",
        "print(f\"Coefficient of determination: {r2_score(y_test, y_pred):.2f}\")"
      ],
      "metadata": {
        "colab": {
          "base_uri": "https://localhost:8080/"
        },
        "id": "CU73kRAIGsOX",
        "outputId": "22f86c58-824b-4d56-f7d4-84410f013f41"
      },
      "id": "CU73kRAIGsOX",
      "execution_count": null,
      "outputs": [
        {
          "output_type": "stream",
          "name": "stdout",
          "text": [
            "Mean squared error: 2548.07\n",
            "Coefficient of determination: 0.47\n"
          ]
        }
      ]
    },
    {
      "cell_type": "code",
      "source": [
        "import matplotlib.pyplot as plt\n",
        "\n",
        "fig, ax = plt.subplots(ncols=2, figsize=(10, 5), sharex=True, sharey=True)\n",
        "\n",
        "ax[0].scatter(X_train, y_train, label=\"Train data points\")\n",
        "ax[0].plot(\n",
        "    X_train,\n",
        "    regressor.predict(X_train),\n",
        "    linewidth=3,\n",
        "    color=\"tab:orange\",\n",
        "    label=\"Model predictions\",\n",
        ")\n",
        "ax[0].set(xlabel=\"Feature\", ylabel=\"Target\", title=\"Train set\")\n",
        "ax[0].legend()\n",
        "\n",
        "ax[1].scatter(X_test, y_test, label=\"Test data points\")\n",
        "ax[1].plot(X_test, y_pred, linewidth=3, color=\"tab:orange\", label=\"Model predictions\")\n",
        "ax[1].set(xlabel=\"Feature\", ylabel=\"Target\", title=\"Test set\")\n",
        "ax[1].legend()\n",
        "\n",
        "fig.suptitle(\"Linear Regression\")\n",
        "\n",
        "plt.show()"
      ],
      "metadata": {
        "id": "2j7sLfTDG1QM",
        "outputId": "54eda3e0-6f0a-4814-ddea-65d59bd9b4ab",
        "colab": {
          "base_uri": "https://localhost:8080/",
          "height": 515
        }
      },
      "id": "2j7sLfTDG1QM",
      "execution_count": null,
      "outputs": [
        {
          "output_type": "display_data",
          "data": {
            "text/plain": [
              "<Figure size 1000x500 with 2 Axes>"
            ],
            "image/png": "[encoded data removed]"
          },
          "metadata": {}
        }
      ]
    },
    {
      "cell_type": "markdown",
      "id": "e5d0ac17-eb12-48e3-b47b-92f6f080a81a",
      "metadata": {
        "id": "e5d0ac17-eb12-48e3-b47b-92f6f080a81a"
      },
      "source": [
        "***"
      ]
    },
    {
      "cell_type": "markdown",
      "id": "61f25b06",
      "metadata": {
        "id": "61f25b06"
      },
      "source": [
        "## <span style=\"color:green\">Descenso del Gradiente</span>"
      ]
    },
    {
      "cell_type": "markdown",
      "id": "c14cd517-3801-4ebc-8d4d-48051abfefac",
      "metadata": {
        "id": "c14cd517-3801-4ebc-8d4d-48051abfefac"
      },
      "source": [
        "Algoritmo de optimización. Signfica una alternativa a la ecuación normal"
      ]
    },
    {
      "cell_type": "markdown",
      "id": "a7d3f85f",
      "metadata": {
        "id": "a7d3f85f"
      },
      "source": [
        "#### <span style=\"color:blue\">Descenso del Gradiente por Lote</span>"
      ]
    },
    {
      "cell_type": "markdown",
      "id": "78413dea-6574-4c6f-ad8a-9f8f3ab94df5",
      "metadata": {
        "id": "78413dea-6574-4c6f-ad8a-9f8f3ab94df5"
      },
      "source": [
        "**Derivada parcial de la función de costo (MSE)**"
      ]
    },
    {
      "cell_type": "markdown",
      "id": "b9aec6a4",
      "metadata": {
        "id": "b9aec6a4"
      },
      "source": [
        "$ \\frac{\\partial}{\\partial b} J(b) = \\frac{2}{m} \\sum_{i=1}^{m}(b^Tx^i-y^i)x^i$"
      ]
    },
    {
      "cell_type": "markdown",
      "id": "20388e85-5bde-47df-b2fb-62ba717e78d2",
      "metadata": {
        "id": "20388e85-5bde-47df-b2fb-62ba717e78d2"
      },
      "source": [
        "**Vector del Gradiente de la función de costo**"
      ]
    },
    {
      "cell_type": "markdown",
      "id": "0e9bab83",
      "metadata": {
        "id": "0e9bab83"
      },
      "source": [
        "$ \\bigtriangledown_b MSE(b) = [\\frac{\\partial}{\\partial b_1} MSE(b_1), \\frac{\\partial}{\\partial b_2} MSE(b_2) ,....\\frac{\\partial}{\\partial b_m} MSE(b_m)] = \\frac{2}{m} X^T(Xb-y) $"
      ]
    },
    {
      "cell_type": "markdown",
      "id": "6f4b0a17-d5d0-49fb-be8a-7fc9f5095e5b",
      "metadata": {
        "id": "6f4b0a17-d5d0-49fb-be8a-7fc9f5095e5b"
      },
      "source": [
        "**Step del descenso del Gradiente**"
      ]
    },
    {
      "cell_type": "markdown",
      "id": "361ea077",
      "metadata": {
        "id": "361ea077"
      },
      "source": [
        "$ b^{+} = b-n\\bigtriangledown_b MSE(b) $"
      ]
    },
    {
      "cell_type": "code",
      "execution_count": null,
      "id": "98d3201f",
      "metadata": {
        "id": "98d3201f"
      },
      "outputs": [],
      "source": [
        "# Definir la tasa de aprendizaje (ra)\n",
        "ra = 0.1\n",
        "#Definir las iteraciones. 1000 es un estándar. En 1000 se va a detener\n",
        "iteraciones = 1000\n",
        "#Número de datos\n",
        "m = 100\n",
        "\n",
        "#Incializa la pendiente\n",
        "b = np.random.rand(2,1)"
      ]
    },
    {
      "cell_type": "code",
      "execution_count": null,
      "id": "40d05a46-4945-468f-abe4-92d772968f7c",
      "metadata": {
        "id": "40d05a46-4945-468f-abe4-92d772968f7c",
        "outputId": "95a774d5-c14d-4ca5-9eec-8141030392d6"
      },
      "outputs": [
        {
          "data": {
            "text/plain": [
              "array([[3.4626248 ],\n",
              "       [3.13840098]])"
            ]
          },
          "execution_count": 19,
          "metadata": {},
          "output_type": "execute_result"
        }
      ],
      "source": [
        "#Hacer el programa para el descenso del gradiente\n",
        "for iteracion in range(iteraciones):\n",
        "    #Expresión a manera de ágebra lineal de los mínimos cuadrados (función de costo)\n",
        "    gradientes  = 2/m * x_b.T.dot(x_b.dot(b) - y)\n",
        "    b = b -ra * gradientes\n",
        "b"
      ]
    },
    {
      "cell_type": "markdown",
      "id": "76cb50f1-afaf-47cb-90c7-410214f3c1b4",
      "metadata": {
        "id": "76cb50f1-afaf-47cb-90c7-410214f3c1b4"
      },
      "source": [
        "Los resultados nos da extremadamente cercano a los datos obtenidos con la ecuación normal. Ojo: recuerda que el descenso del gradiente es un método de aproximación"
      ]
    },
    {
      "cell_type": "code",
      "execution_count": null,
      "id": "f6bfb01f",
      "metadata": {
        "id": "f6bfb01f",
        "outputId": "52358c73-4c4a-496f-9609-2606173f7a3b"
      },
      "outputs": [
        {
          "data": {
            "image/png": "[encoded data removed]",
            "text/plain": [
              "<Figure size 432x288 with 1 Axes>"
            ]
          },
          "metadata": {
            "needs_background": "light"
          },
          "output_type": "display_data"
        },
        {
          "data": {
            "text/plain": [
              "array([[-0.4669283 ],\n",
              "       [-0.33665973]])"
            ]
          },
          "execution_count": 20,
          "metadata": {},
          "output_type": "execute_result"
        }
      ],
      "source": [
        "#Repetir el ejercicio pero con ritmo de tasa de aprendizaje diferente\n",
        "ra = 0.1\n",
        "iteraciones = 10\n",
        "m = 100\n",
        "\n",
        "b = np.random.rand(2,1)\n",
        "\n",
        "plt.scatter(x,y,label=\"Datos\")\n",
        "\n",
        "#Visualiza los modelos que va proponiendo hasta llegar a la predicción final\n",
        "for iteracion in range(iteraciones):\n",
        "    gradientes  = 2/m * x_b.T.dot(x_b.dot(b) - y)\n",
        "    b = b -ra * gradientes\n",
        "    y_nuevo = x_nuevo_b.dot(b)\n",
        "    plt.plot(x_nuevo,y_nuevo,\"r-\")\n",
        "plt.show()\n",
        "gradientes"
      ]
    },
    {
      "cell_type": "markdown",
      "id": "61216a12-0170-44f9-b8a6-4c915b0e7e1c",
      "metadata": {
        "id": "61216a12-0170-44f9-b8a6-4c915b0e7e1c"
      },
      "source": [
        "**Ejercicio**: Varía la tasa de aprendizaje y los número de pasos para observar como funciona el gradiente de tipo batch"
      ]
    },
    {
      "cell_type": "markdown",
      "id": "8e438fca-35e2-48e3-a1e3-9a9261cedc2f",
      "metadata": {
        "id": "8e438fca-35e2-48e3-a1e3-9a9261cedc2f"
      },
      "source": [
        "***"
      ]
    },
    {
      "cell_type": "markdown",
      "id": "b7b94ab7",
      "metadata": {
        "id": "b7b94ab7"
      },
      "source": [
        "#### <span style=\"color:blue\">Descenso del Gradiente Estocástico</span>"
      ]
    },
    {
      "cell_type": "markdown",
      "id": "a1bfb053-02de-4b03-8be2-6c86aaf2847d",
      "metadata": {
        "id": "a1bfb053-02de-4b03-8be2-6c86aaf2847d"
      },
      "source": [
        "Debido a qué la complejidad computacional del descenso del gradiente de lote es alto, podemos ver el descenso del gradiente estocástico para poder mejorar las predicción."
      ]
    },
    {
      "cell_type": "markdown",
      "id": "2d56df3c-0576-433f-b4a2-2b9780cc9385",
      "metadata": {
        "id": "2d56df3c-0576-433f-b4a2-2b9780cc9385"
      },
      "source": [
        "**Ventajas**: Puedes trabajar con más datos, escapa de los mínimos locales.\n",
        "**Desventajas:** No es tan exacto como los otros métodos. Sin embargo, su variación es despreciable"
      ]
    },
    {
      "cell_type": "code",
      "execution_count": null,
      "id": "576289e4",
      "metadata": {
        "id": "576289e4",
        "outputId": "21841512-4fed-411d-cbb7-154c8805d2f4"
      },
      "outputs": [
        {
          "data": {
            "text/plain": [
              "array([[3.46713171],\n",
              "       [3.10678409]])"
            ]
          },
          "execution_count": 21,
          "metadata": {},
          "output_type": "execute_result"
        }
      ],
      "source": [
        "# epochs: cuántas gradientes hará, cuántos datos seleccionará para hacer el gradiente\n",
        "epochs = 50\n",
        "#Calendario de aprendizaje, sirve para definir el ritmo de aprendizaje\n",
        "t0 , t1 = 5, 50\n",
        "m = 100\n",
        "#Definir el horario de aprendizaje\n",
        "def horario_aprendizaje(t):\n",
        "    return t0 / (t + t1)\n",
        "#Definir los 2 valores con lo que van a empezar\n",
        "b = np.random.rand(2,1)\n",
        "\n",
        "#Definir la función\n",
        "for epoch in range(epochs):\n",
        "    for i in range(m):\n",
        "        #Genera un índice aleatorio\n",
        "        random_index = np.random.randint(m)\n",
        "        #Valor x de la coordenada que seleccionamos al azar\n",
        "        xi = x_b[random_index:random_index+1]\n",
        "        #Valor y de la coordenada que seleccionamos al azar\n",
        "        yi = y[random_index:random_index+1]\n",
        "        #Calcular el gradiente (Resultado de la derivada parcial)\n",
        "        gradientes  = 2 * xi.T.dot(xi.dot(b) - yi)\n",
        "        #Calcular el ritmo de aprendizaje\n",
        "        ra = horario_aprendizaje(epoch * m + i)\n",
        "        #Calcular los parámetros de intersección y pendiente\n",
        "        b = b -ra * gradientes\n",
        "b"
      ]
    },
    {
      "cell_type": "markdown",
      "id": "4fb8eb3b-4929-46d2-8ae4-ec3d6aea2129",
      "metadata": {
        "id": "4fb8eb3b-4929-46d2-8ae4-ec3d6aea2129"
      },
      "source": [
        "Aunque existe variación con el resultado de los métodos anteriores, la diferencia es mínima"
      ]
    },
    {
      "cell_type": "code",
      "execution_count": null,
      "id": "9a6140bf",
      "metadata": {
        "scrolled": true,
        "id": "9a6140bf",
        "outputId": "67cf7d61-3b1d-4b3a-efe6-a5a6fb525dcb"
      },
      "outputs": [
        {
          "data": {
            "image/png": "[encoded data removed]",
            "text/plain": [
              "<Figure size 432x288 with 1 Axes>"
            ]
          },
          "metadata": {
            "needs_background": "light"
          },
          "output_type": "display_data"
        }
      ],
      "source": [
        "# #Repetir el ejercicio pero desplegando cada gradiente realizado\n",
        "epochs = 4\n",
        "t0 , t1 = 5, 50\n",
        "m = 5\n",
        "\n",
        "def horario_aprendizaje(t):\n",
        "    return t0 / (t + t1)\n",
        "\n",
        "b = np.random.rand(2,1)\n",
        "#Agrega un scatterplot para ver los datos\n",
        "plt.scatter(x,y,label=\"Datos\")\n",
        "\n",
        "for epoch in range(epochs):\n",
        "    for i in range(m):\n",
        "        random_index = np.random.randint(m)\n",
        "        xi = x_b[random_index:random_index+1]\n",
        "        yi = y[random_index:random_index+1]\n",
        "        y_nuevo = x_nuevo_b.dot(b)\n",
        "        #Grafica las líneas rojas que simbolizan los diferentes gradientes a través de las iteraciones.\n",
        "        plt.plot(x_nuevo,y_nuevo,\"r-\")\n",
        "        gradientes  = 2 * xi.T.dot(xi.dot(b) - yi)\n",
        "        ra = horario_aprendizaje(epoch * m + i)\n",
        "        b = b -ra * gradientes\n",
        "plt.show()"
      ]
    },
    {
      "cell_type": "code",
      "execution_count": null,
      "id": "0a46f861",
      "metadata": {
        "id": "0a46f861",
        "outputId": "dcc6d22a-4a07-4172-e65b-d6066d92512e"
      },
      "outputs": [
        {
          "data": {
            "text/plain": [
              "(array([3.4900843]), array([2.91758961]))"
            ]
          },
          "execution_count": 10,
          "metadata": {},
          "output_type": "execute_result"
        }
      ],
      "source": [
        "#Hacerlo con scikit\n",
        "from sklearn.linear_model import SGDRegressor\n",
        "#La toleración es el límite menor al valor de la suma de los errores al cuadrado\n",
        "sgd = SGDRegressor(max_iter=1000, tol=1e-3, penalty=None, eta0=0.1)\n",
        "#.ravel: te genera una lista normal\n",
        "sgd.fit(x, y.ravel())\n",
        "#Sacar los parámetros, la intersección y la pendiente\n",
        "sgd.intercept_, sgd.coef_"
      ]
    },
    {
      "cell_type": "code",
      "execution_count": null,
      "id": "24cb1db1",
      "metadata": {
        "id": "24cb1db1",
        "outputId": "a92f9470-e0e1-4156-ab57-d3a108e3aeeb"
      },
      "outputs": [
        {
          "data": {
            "text/plain": [
              "array([4.38213529, 5.73734445, 6.28324345, 4.84047429, 4.39617872,\n",
              "       4.90869244, 3.58689118, 6.20769317, 5.73183408, 5.77779909,\n",
              "       4.62331238, 3.40233755, 3.38419462, 4.32481833, 4.76968239,\n",
              "       4.42806997, 4.11252204, 5.49573432, 4.34838138, 6.39555338,\n",
              "       5.50994925, 4.44664888, 4.34061617, 5.93857937, 4.054832  ,\n",
              "       6.27550781, 4.68638927, 6.5766789 , 5.26095901, 5.78432088,\n",
              "       3.82015444, 6.5020056 , 4.27754015, 6.37060961, 4.63431983,\n",
              "       4.26682861, 4.93425132, 4.59185976, 3.47987517, 3.7237929 ,\n",
              "       4.90705008, 5.53151155, 5.28366936, 4.6123634 , 5.07650598,\n",
              "       4.90134482, 4.90391259, 4.25013423, 4.73983454, 6.4401044 ,\n",
              "       5.05429251, 4.0143636 , 5.49909963, 4.4678821 , 3.69360099,\n",
              "       3.69756427, 3.81486117, 4.05866637, 3.24950017, 6.27785859,\n",
              "       5.83597681, 4.44001332, 4.91244696, 3.77108279, 4.43484189,\n",
              "       6.12136709, 6.31402317, 4.23740807, 5.81721028, 3.52503753,\n",
              "       4.05021863, 5.00390564, 6.09846776, 4.92481197, 6.37903929,\n",
              "       5.78164558, 3.3236808 , 6.60021387, 3.28931851, 3.79332963,\n",
              "       3.88134312, 5.87165631, 5.51048768, 5.85650626, 4.60085652,\n",
              "       6.77760403, 5.3304604 , 4.1355776 , 3.62739692, 3.68491813,\n",
              "       6.07422219, 4.78240016, 4.68864948, 5.5592362 , 5.38219867,\n",
              "       4.06745476, 5.2273547 , 4.88916318, 4.96440724, 4.06116358])"
            ]
          },
          "execution_count": 11,
          "metadata": {},
          "output_type": "execute_result"
        }
      ],
      "source": [
        "#Visualiza la lista normal que genera .ravel\n",
        "y.ravel()"
      ]
    },
    {
      "cell_type": "markdown",
      "id": "fed3539f-0646-4995-b4f1-5eaf15fcf45e",
      "metadata": {
        "id": "fed3539f-0646-4995-b4f1-5eaf15fcf45e"
      },
      "source": [
        "👀: Con este método si existió una variación importante en los resultados obtenidos. Es cuestión de criterio el sacrificar exactitud por costo computacional o viceversa."
      ]
    },
    {
      "cell_type": "markdown",
      "id": "3a6b0333-0bf4-4f04-84fd-bdcc47c265b1",
      "metadata": {
        "id": "3a6b0333-0bf4-4f04-84fd-bdcc47c265b1"
      },
      "source": [
        "***"
      ]
    },
    {
      "cell_type": "markdown",
      "id": "575b86d9",
      "metadata": {
        "id": "575b86d9"
      },
      "source": [
        "## <span style=\"color:green\">Regresión polinomial</span>"
      ]
    },
    {
      "cell_type": "markdown",
      "id": "8025797f-0d5f-49c3-97b2-5230ca2bae8b",
      "metadata": {
        "id": "8025797f-0d5f-49c3-97b2-5230ca2bae8b"
      },
      "source": [
        "Regresión polinomial es una regresión linel a la cual le agregamos ecuaciones con potencia más elevada"
      ]
    },
    {
      "cell_type": "code",
      "execution_count": null,
      "id": "3cb73669-c866-4dc9-8100-c9d62b9c6dbd",
      "metadata": {
        "id": "3cb73669-c866-4dc9-8100-c9d62b9c6dbd",
        "outputId": "0effdea1-6089-40f2-9c99-1b3e8d726b2c"
      },
      "outputs": [
        {
          "data": {
            "text/plain": [
              "<matplotlib.collections.PathCollection at 0x7ff2b24ca280>"
            ]
          },
          "execution_count": 28,
          "metadata": {},
          "output_type": "execute_result"
        },
        {
          "data": {
            "image/png": "[encoded data removed]",
            "text/plain": [
              "<Figure size 432x288 with 1 Axes>"
            ]
          },
          "metadata": {
            "needs_background": "light"
          },
          "output_type": "display_data"
        }
      ],
      "source": [
        "#Generar set de datos de juguete. Añade un toque de aleatoriedad 🧙🏻‍♀️\n",
        "m = 100\n",
        "x = 3 * np.random.rand(m,1) - 3\n",
        "#Elevar la ecuación al 2\n",
        "y = 2 + x + 0.5*x**2 + np.random.rand(m,1)\n",
        "#Gráfica el set de datos\n",
        "plt.scatter(x,y)"
      ]
    },
    {
      "cell_type": "markdown",
      "id": "013813e7-4d0d-4ee0-9022-8b839a701026",
      "metadata": {
        "id": "013813e7-4d0d-4ee0-9022-8b839a701026"
      },
      "source": [
        "No hay una función en scikit para hacer regresiones polinomiales como tal. Pero podemos utilizar PolynomialFeature que toma los valores de x y los eleva a una potencia especificada."
      ]
    },
    {
      "cell_type": "code",
      "execution_count": null,
      "id": "095ef814",
      "metadata": {
        "id": "095ef814",
        "outputId": "ea1cd512-a706-4e4f-9ac3-d45f58d40a5e"
      },
      "outputs": [
        {
          "data": {
            "text/plain": [
              "(array([-2.83247844]), array([-2.83247844,  8.0229341 ]))"
            ]
          },
          "execution_count": 29,
          "metadata": {},
          "output_type": "execute_result"
        }
      ],
      "source": [
        "#Importar PolynomialFeatures con una potencia 2\n",
        "from sklearn.preprocessing import PolynomialFeatures\n",
        "poli = PolynomialFeatures(degree=2, include_bias=False)\n",
        "x_poli = poli.fit_transform(x)\n",
        "x[0], x_poli[0]"
      ]
    },
    {
      "cell_type": "code",
      "execution_count": null,
      "id": "4e3d7611",
      "metadata": {
        "id": "4e3d7611",
        "outputId": "3191e21a-a763-4b66-de37-da3792ca8a46"
      },
      "outputs": [
        {
          "data": {
            "text/plain": [
              "(array([2.56200335]), array([[1.1118853 , 0.53940892]]))"
            ]
          },
          "execution_count": 30,
          "metadata": {},
          "output_type": "execute_result"
        }
      ],
      "source": [
        "#Hacer una regresión lineal sobre de los datos\n",
        "reg_lin = LinearRegression()\n",
        "reg_lin.fit(x_poli,y)\n",
        "reg_lin.intercept_,reg_lin.coef_"
      ]
    },
    {
      "cell_type": "markdown",
      "id": "f79d7127-016a-482d-81f1-ac4ea96060dc",
      "metadata": {
        "id": "f79d7127-016a-482d-81f1-ac4ea96060dc"
      },
      "source": [
        "Primero aparece el dato de la intersección y luego aparece los coeficientes de de x y x2, respectivamente"
      ]
    },
    {
      "cell_type": "code",
      "execution_count": null,
      "id": "a4fddf3f",
      "metadata": {
        "scrolled": true,
        "id": "a4fddf3f",
        "outputId": "ccd1d67f-a0b7-43a5-dde3-740b6d395a6f"
      },
      "outputs": [
        {
          "data": {
            "image/png": "[encoded data removed]",
            "text/plain": [
              "<Figure size 432x288 with 1 Axes>"
            ]
          },
          "metadata": {
            "needs_background": "light"
          },
          "output_type": "display_data"
        }
      ],
      "source": [
        "#Graficar la predicción de PolynomialFeatures y los datos originales\n",
        "x_nuevo = np.linspace(-3.2,0.2,100)\n",
        "#escribir la fórmula a partir del array de arriba\n",
        "y_nuevo = 2.56 + 1.11 * x_nuevo + 0.539 * x_nuevo ** 2\n",
        "plt.plot(x_nuevo,y_nuevo,\"r-\",label=\"Predicción\")\n",
        "plt.scatter(x,y,label=\"Datos\")\n",
        "plt.legend()\n",
        "plt.show()"
      ]
    },
    {
      "cell_type": "markdown",
      "id": "008e81d3-cf68-4a9f-ada7-0190369939e5",
      "metadata": {
        "id": "008e81d3-cf68-4a9f-ada7-0190369939e5"
      },
      "source": [
        "**Ejercicio**: calcular la suma de los errores al cuadrado  y compararlo con una predicción lineal"
      ]
    },
    {
      "cell_type": "markdown",
      "id": "4f3358f3-5746-455b-a069-ca4c4baeda06",
      "metadata": {
        "id": "4f3358f3-5746-455b-a069-ca4c4baeda06"
      },
      "source": [
        "***"
      ]
    },
    {
      "cell_type": "markdown",
      "id": "564d314b",
      "metadata": {
        "id": "564d314b"
      },
      "source": [
        "## <span style=\"color:green\">Curvas de Aprendizaje</span>"
      ]
    },
    {
      "cell_type": "code",
      "execution_count": null,
      "id": "8ed166a8",
      "metadata": {
        "id": "8ed166a8"
      },
      "outputs": [],
      "source": [
        "#Importar mean_squared_error train_test_split para medir el error sobre los datos de entranamiento y validación\n",
        "from sklearn.metrics import mean_squared_error\n",
        "from sklearn.model_selection import train_test_split\n",
        "\n",
        "\n",
        "def curvas_aprendizaje(modelo ,x , y):\n",
        "    #Empezamos dividiendo los datos en datos de entrenamiento y validación\n",
        "    x_train, x_val, y_train, y_val = train_test_split(x, y, test_size=0.2)\n",
        "    #Generar una lista vacías para irlas rellenando conforme se vaya calculando los errores\n",
        "    train_error, val_errors= [], []\n",
        "    #Tomar el set de entrenamiento y ajustándolo al modelo pero solo con un dato de entrenamiento y así sucesivamente\n",
        "    for m in range(1,len(x_train)):\n",
        "        modelo.fit(x_train[:m], y_train[:m])\n",
        "        #predecir el modelo\n",
        "        y_train_pred = modelo.predict(x_train[:m])\n",
        "        #predecir el modelo\n",
        "        y_val_predict = modelo.predict(x_val)\n",
        "        #Calcular los errores\n",
        "        train_error.append(mean_squared_error(y_train[:m],y_train_pred))\n",
        "        val_errors.append(mean_squared_error(y_val,y_val_predict))\n",
        "\n",
        "        #graficarlos\n",
        "    plt.plot(np.sqrt(train_error), \"r-+\", label = \"set de entranamiento\")\n",
        "    plt.plot(np.sqrt(val_errors), \"b-\", label = \"set de validación\")\n",
        "    plt.axis([0,80,0,2])\n",
        "    plt.legend()"
      ]
    },
    {
      "cell_type": "code",
      "execution_count": null,
      "id": "7f8998e8",
      "metadata": {
        "id": "7f8998e8",
        "outputId": "f9daede0-ed3d-4025-d04c-e52a16f10416"
      },
      "outputs": [
        {
          "data": {
            "image/png": "[encoded data removed]",
            "text/plain": [
              "<Figure size 432x288 with 1 Axes>"
            ]
          },
          "metadata": {
            "needs_background": "light"
          },
          "output_type": "display_data"
        }
      ],
      "source": [
        "#Correr la curva de aprendizaje\n",
        "reg_lin = LinearRegression()\n",
        "curvas_aprendizaje(reg_lin, x, y)"
      ]
    },
    {
      "cell_type": "code",
      "execution_count": null,
      "id": "64f0116d",
      "metadata": {
        "id": "64f0116d"
      },
      "outputs": [],
      "source": [
        "#Hacer un pipeline llamado regresion_polinomial que haga una regresión polinomial y lineal\n",
        "from sklearn.pipeline import Pipeline\n",
        "\n",
        "regresion_polinomial = Pipeline([\n",
        "    (\"carac_polinomiales\", PolynomialFeatures(degree=10, include_bias=False)),\n",
        "    (\"reg_lin\", LinearRegression())\n",
        "])"
      ]
    },
    {
      "cell_type": "code",
      "execution_count": null,
      "id": "6e4c52a6",
      "metadata": {
        "id": "6e4c52a6",
        "outputId": "d5e40eae-3848-4305-d010-6b1463ac5d9d"
      },
      "outputs": [
        {
          "data": {
            "image/png": "[encoded data removed]",
            "text/plain": [
              "<Figure size 432x288 with 1 Axes>"
            ]
          },
          "metadata": {
            "needs_background": "light"
          },
          "output_type": "display_data"
        }
      ],
      "source": [
        "#Ejecutar curvas de aprendizaje a regresion_polinomial\n",
        "curvas_aprendizaje(regresion_polinomial,x,y)"
      ]
    },
    {
      "cell_type": "code",
      "execution_count": null,
      "id": "54a74efd",
      "metadata": {
        "id": "54a74efd"
      },
      "outputs": [],
      "source": [
        "#Variar el grado del polinomio para mejorar el rendimiento del modelo. Ejemplo:2\n",
        "from sklearn.pipeline import Pipeline\n",
        "\n",
        "regresion_polinomial = Pipeline([\n",
        "    (\"carac_polinomiales\", PolynomialFeatures(degree=2, include_bias=False)),\n",
        "    (\"reg_lin\", LinearRegression())\n",
        "])"
      ]
    },
    {
      "cell_type": "code",
      "execution_count": null,
      "id": "bf638578",
      "metadata": {
        "id": "bf638578",
        "outputId": "2494f0bd-516c-4200-db96-e010799f4963"
      },
      "outputs": [
        {
          "data": {
            "image/png": "[encoded data removed]",
            "text/plain": [
              "<Figure size 432x288 with 1 Axes>"
            ]
          },
          "metadata": {
            "needs_background": "light"
          },
          "output_type": "display_data"
        }
      ],
      "source": [
        "curvas_aprendizaje(regresion_polinomial,x,y)"
      ]
    },
    {
      "cell_type": "markdown",
      "id": "db34acd7-2733-4a91-b7f6-d783c6088ebe",
      "metadata": {
        "id": "db34acd7-2733-4a91-b7f6-d783c6088ebe"
      },
      "source": [
        "Generalemnte, cuando las línas se tocan signfica que llegaste a un buen modelo. No esta sobreajustado ni subajustado"
      ]
    },
    {
      "cell_type": "markdown",
      "id": "e3f8f982-8def-4987-887e-54e80384c567",
      "metadata": {
        "id": "e3f8f982-8def-4987-887e-54e80384c567"
      },
      "source": [
        "***"
      ]
    },
    {
      "cell_type": "markdown",
      "id": "0f3d27ee",
      "metadata": {
        "id": "0f3d27ee"
      },
      "source": [
        "## <span style=\"color:green\"> Regularización de Modelos lineales</span>"
      ]
    },
    {
      "cell_type": "markdown",
      "id": "0decaad2",
      "metadata": {
        "id": "0decaad2"
      },
      "source": [
        "### <span style=\"color:blue\">5.1 Regresión de Ridge o de Cresta</span>"
      ]
    },
    {
      "cell_type": "markdown",
      "id": "3727cc74-8372-482e-a6a4-53dbef4e5f5a",
      "metadata": {
        "id": "3727cc74-8372-482e-a6a4-53dbef4e5f5a"
      },
      "source": [
        "**Término de regularización en la regresión de Ridge**"
      ]
    },
    {
      "cell_type": "markdown",
      "id": "85fb5330",
      "metadata": {
        "id": "85fb5330"
      },
      "source": [
        "$ \\alpha \\sum_{i=1}^{m} b_i^2 $"
      ]
    },
    {
      "cell_type": "markdown",
      "id": "88e18327-e749-423d-b5b0-e1e587936f26",
      "metadata": {
        "id": "88e18327-e749-423d-b5b0-e1e587936f26"
      },
      "source": [
        "**Función de costo de la regresión de Ridge**"
      ]
    },
    {
      "cell_type": "markdown",
      "id": "4defe626",
      "metadata": {
        "id": "4defe626"
      },
      "source": [
        "$ MSE(b) + \\alpha \\frac{1}{2} \\sum_{i=1}^{m} b^2 $"
      ]
    },
    {
      "cell_type": "code",
      "execution_count": null,
      "id": "67bf0445",
      "metadata": {
        "id": "67bf0445",
        "outputId": "0df59e9e-130f-4dea-e79d-03c086f89f19"
      },
      "outputs": [
        {
          "data": {
            "text/plain": [
              "<matplotlib.collections.PathCollection at 0x7ff2b3163e20>"
            ]
          },
          "execution_count": 59,
          "metadata": {},
          "output_type": "execute_result"
        },
        {
          "data": {
            "image/png": "[encoded data removed]",
            "text/plain": [
              "<Figure size 432x288 with 1 Axes>"
            ]
          },
          "metadata": {
            "needs_background": "light"
          },
          "output_type": "display_data"
        }
      ],
      "source": [
        "#Hacer un set de juguete\n",
        "x = np.random.rand(100,1)\n",
        "y = 3 + 3 * x + np.random.rand(100,1)\n",
        "plt.scatter(x,y,label=\"Datos\")"
      ]
    },
    {
      "cell_type": "code",
      "execution_count": null,
      "id": "79b92fa2-d658-4f43-932b-9c1a0976b945",
      "metadata": {
        "id": "79b92fa2-d658-4f43-932b-9c1a0976b945",
        "outputId": "9a579d6d-4eb3-45ab-d1d2-4c3cab476cce"
      },
      "outputs": [
        {
          "data": {
            "text/plain": [
              "(array([3.46027386]), array([[3.09282979]]))"
            ]
          },
          "execution_count": 60,
          "metadata": {},
          "output_type": "execute_result"
        }
      ],
      "source": [
        "#Hacer una regresión lineal sencilla para comparar con la regresión de cresta\n",
        "lin_reg=LinearRegression()\n",
        "lin_reg.fit(x,y)\n",
        "lin_reg.intercept_, lin_reg.coef_"
      ]
    },
    {
      "cell_type": "code",
      "execution_count": null,
      "id": "a174ac4b-25fd-43bd-8fd2-05b7bf06f098",
      "metadata": {
        "id": "a174ac4b-25fd-43bd-8fd2-05b7bf06f098"
      },
      "outputs": [],
      "source": [
        "#Generar 100 datos para graficar la linea de predicción\n",
        "x_nuevo = np.linspace(0,1,100)\n",
        "y_nuevo = 3.46 + 3.09 * x_nuevo"
      ]
    },
    {
      "cell_type": "code",
      "execution_count": null,
      "id": "baecf0d7-f773-45d1-a96a-f8205e98fb14",
      "metadata": {
        "id": "baecf0d7-f773-45d1-a96a-f8205e98fb14",
        "outputId": "20b3aeec-6ba6-4a95-bcb5-c7f979d739a2"
      },
      "outputs": [
        {
          "data": {
            "image/png": "[encoded data removed]",
            "text/plain": [
              "<Figure size 432x288 with 1 Axes>"
            ]
          },
          "metadata": {
            "needs_background": "light"
          },
          "output_type": "display_data"
        }
      ],
      "source": [
        "#graficar\n",
        "plt.scatter(x,y,label=\"Datos\")\n",
        "plt.plot(x_nuevo,y_nuevo,\"r-\",label=\"Regresión Lineal\")\n",
        "plt.legend()\n",
        "plt.show()"
      ]
    },
    {
      "cell_type": "code",
      "execution_count": null,
      "id": "a3b74a9c",
      "metadata": {
        "id": "a3b74a9c",
        "outputId": "a497fb18-14f7-4a6d-86ed-45ad9351fa24"
      },
      "outputs": [
        {
          "data": {
            "text/plain": [
              "Ridge()"
            ]
          },
          "execution_count": 63,
          "metadata": {},
          "output_type": "execute_result"
        }
      ],
      "source": [
        "#Importar Ridge para hacer nuestra regresión de cresta\n",
        "from sklearn.linear_model import Ridge\n",
        "ridge = Ridge()\n",
        "ridge.fit(x,y)"
      ]
    },
    {
      "cell_type": "code",
      "execution_count": null,
      "id": "9df1065f-a018-4fae-950f-7b9b3ab18fa8",
      "metadata": {
        "id": "9df1065f-a018-4fae-950f-7b9b3ab18fa8",
        "outputId": "9f1584df-55b9-45cd-eeaf-1638462e7267"
      },
      "outputs": [
        {
          "data": {
            "text/plain": [
              "(array([3.60798182]), array([[2.75451543]]))"
            ]
          },
          "execution_count": 64,
          "metadata": {},
          "output_type": "execute_result"
        }
      ],
      "source": [
        "#Calcula los parámetros de ridge\n",
        "ridge.intercept_, ridge.coef_"
      ]
    },
    {
      "cell_type": "code",
      "execution_count": null,
      "id": "d063181b",
      "metadata": {
        "id": "d063181b"
      },
      "outputs": [],
      "source": [
        "#Hacer la linea de la predicción de Ridge\n",
        "x_cresta = np.linspace(0,1,100)\n",
        "y_cresta = 3.66 + 2.72 * x_cresta"
      ]
    },
    {
      "cell_type": "code",
      "execution_count": null,
      "id": "aef913a1-5fa8-4d5d-ab50-ab8c4de09c3c",
      "metadata": {
        "id": "aef913a1-5fa8-4d5d-ab50-ab8c4de09c3c",
        "outputId": "2374cf64-0d3c-4764-c541-5bfd78724a5c"
      },
      "outputs": [
        {
          "data": {
            "image/png": "[encoded data removed]",
            "text/plain": [
              "<Figure size 432x288 with 1 Axes>"
            ]
          },
          "metadata": {
            "needs_background": "light"
          },
          "output_type": "display_data"
        }
      ],
      "source": [
        "#graficar comparando la regresión lineal y de Ridge\n",
        "plt.scatter(x,y,label=\"Datos\")\n",
        "plt.plot(x_nuevo,y_nuevo,\"r-\",label=\"Regresión Lineal\")\n",
        "plt.plot(x_cresta,y_cresta,\"g-\",label=\"Regresión Ridge\")\n",
        "plt.legend()\n",
        "plt.show()"
      ]
    },
    {
      "cell_type": "markdown",
      "id": "139c50bf-7504-43f5-9e59-9bf9ce8dd71b",
      "metadata": {
        "id": "139c50bf-7504-43f5-9e59-9bf9ce8dd71b"
      },
      "source": [
        "***"
      ]
    },
    {
      "cell_type": "markdown",
      "id": "20a4f6d5",
      "metadata": {
        "id": "20a4f6d5"
      },
      "source": [
        "### <span style=\"color:blue\"> Regresión de Lasso</span>"
      ]
    },
    {
      "cell_type": "markdown",
      "id": "5ef5b598-2f6d-4935-a50c-0bcf2bb946d7",
      "metadata": {
        "id": "5ef5b598-2f6d-4935-a50c-0bcf2bb946d7"
      },
      "source": [
        "**Función de costo de la regresión de regresión de Lasso**"
      ]
    },
    {
      "cell_type": "markdown",
      "id": "0db27124",
      "metadata": {
        "id": "0db27124"
      },
      "source": [
        "$ MSE(b) + \\alpha  \\sum_{i=1}^{m} |b| $"
      ]
    },
    {
      "cell_type": "code",
      "execution_count": null,
      "id": "51c85c17",
      "metadata": {
        "id": "51c85c17",
        "outputId": "b147bab6-253b-49fd-ef5f-7422c76dd22d"
      },
      "outputs": [
        {
          "data": {
            "text/plain": [
              "Lasso(alpha=0.1)"
            ]
          },
          "execution_count": 67,
          "metadata": {},
          "output_type": "execute_result"
        }
      ],
      "source": [
        "#Importar lasso\n",
        "from sklearn.linear_model import Lasso\n",
        "#Asignar una alpha de 0.1\n",
        "lasso = Lasso(alpha=0.1)\n",
        "lasso.fit(x,y)"
      ]
    },
    {
      "cell_type": "code",
      "execution_count": null,
      "id": "de2b40c1-7159-4142-a08c-496bec4f0e43",
      "metadata": {
        "id": "de2b40c1-7159-4142-a08c-496bec4f0e43",
        "outputId": "fc7c83ff-1589-43ca-936f-96d63d1f80b4"
      },
      "outputs": [
        {
          "data": {
            "text/plain": [
              "(array([3.99651322]), array([1.86461245]))"
            ]
          },
          "execution_count": 69,
          "metadata": {},
          "output_type": "execute_result"
        }
      ],
      "source": [
        "#Calcular los parámetros de intersección y coeficientes de x\n",
        "lasso.intercept_, lasso.coef_"
      ]
    },
    {
      "cell_type": "code",
      "execution_count": null,
      "id": "fd7f1156-9f81-42a4-a153-cd41dfd858e8",
      "metadata": {
        "id": "fd7f1156-9f81-42a4-a153-cd41dfd858e8"
      },
      "outputs": [],
      "source": [
        "#Hacer la linea de la predicción de lasso\n",
        "x_lasso = np.linspace(0,1,100)\n",
        "y_lasso = 3.99 + 1.86 * x_lasso"
      ]
    },
    {
      "cell_type": "code",
      "execution_count": null,
      "id": "d6deeb45-fb11-418a-9673-73396e9c617b",
      "metadata": {
        "id": "d6deeb45-fb11-418a-9673-73396e9c617b",
        "outputId": "a815b1e9-05c4-48c7-adf3-7e15dafbc9ee"
      },
      "outputs": [
        {
          "data": {
            "image/png": "[encoded data removed]",
            "text/plain": [
              "<Figure size 432x288 with 1 Axes>"
            ]
          },
          "metadata": {
            "needs_background": "light"
          },
          "output_type": "display_data"
        }
      ],
      "source": [
        "#graficar comparando la regresión lineal, de Ridge y de Lasso\n",
        "plt.scatter(x,y,label=\"Datos\")\n",
        "plt.plot(x_nuevo,y_nuevo,\"r-\",label=\"Regresión Lineal\")\n",
        "plt.plot(x_cresta,y_cresta,\"g-\",label=\"Regresión Ridge\")\n",
        "plt.plot(x_lasso,y_lasso,\"b-\",label=\"Regresión Lasso\")\n",
        "plt.legend()\n",
        "plt.show()"
      ]
    },
    {
      "cell_type": "markdown",
      "id": "6e8d74d1-912c-41e7-9927-fe1f591869ac",
      "metadata": {
        "id": "6e8d74d1-912c-41e7-9927-fe1f591869ac"
      },
      "source": [
        "***"
      ]
    },
    {
      "cell_type": "markdown",
      "id": "d756eb74",
      "metadata": {
        "id": "d756eb74"
      },
      "source": [
        "### <span style=\"color:blue\">Regresión de Red Elástica</span>"
      ]
    },
    {
      "cell_type": "markdown",
      "id": "22129521-93ae-4487-8a73-a5eb3bc3d38a",
      "metadata": {
        "id": "22129521-93ae-4487-8a73-a5eb3bc3d38a"
      },
      "source": [
        "**Función de costo de la Regresión de Red Elástica**"
      ]
    },
    {
      "cell_type": "markdown",
      "id": "ff47ef80",
      "metadata": {
        "id": "ff47ef80"
      },
      "source": [
        "$ MSE(b) + r\\alpha  \\sum_{i=1}^{m} |b| + \\alpha \\frac{1-r}{2} \\sum_{i=1}^{m} b^2 $"
      ]
    },
    {
      "cell_type": "code",
      "execution_count": null,
      "id": "623b4f53",
      "metadata": {
        "id": "623b4f53",
        "outputId": "4c945678-ebf3-40ab-c590-3843183a9f52"
      },
      "outputs": [
        {
          "data": {
            "text/plain": [
              "ElasticNet(alpha=0.1)"
            ]
          },
          "execution_count": 84,
          "metadata": {},
          "output_type": "execute_result"
        }
      ],
      "source": [
        "#Importar ElasticNet\n",
        "from sklearn.linear_model import ElasticNet\n",
        "net = ElasticNet(alpha=0.1, l1_ratio=0.5)\n",
        "net.fit(x,y)"
      ]
    },
    {
      "cell_type": "code",
      "execution_count": null,
      "id": "c71769a8-f3e5-4dbe-b601-5e6f69366322",
      "metadata": {
        "id": "c71769a8-f3e5-4dbe-b601-5e6f69366322",
        "outputId": "d45ee9d1-82af-4ebe-fd13-41673293d8c3"
      },
      "outputs": [
        {
          "data": {
            "text/plain": [
              "(array([4.14013404]), array([1.53565938]))"
            ]
          },
          "execution_count": 85,
          "metadata": {},
          "output_type": "execute_result"
        }
      ],
      "source": [
        "#Calcular los parámetros de intersección y coeficientes de x\n",
        "net.intercept_, net.coef_"
      ]
    },
    {
      "cell_type": "code",
      "execution_count": null,
      "id": "c102a31b-4e88-4916-85e2-0034602c6896",
      "metadata": {
        "id": "c102a31b-4e88-4916-85e2-0034602c6896"
      },
      "outputs": [],
      "source": [
        "#Hacer la linea de la predicción de Red Elástica\n",
        "x_net = np.linspace(0,1,100)\n",
        "y_net = 4.14013 + 1.5356 * x_net"
      ]
    },
    {
      "cell_type": "code",
      "execution_count": null,
      "id": "02a7b0da-d682-4d3f-ab9c-c6521715f538",
      "metadata": {
        "id": "02a7b0da-d682-4d3f-ab9c-c6521715f538",
        "outputId": "5b149ae8-5036-4921-f65d-8d026de605c5"
      },
      "outputs": [
        {
          "data": {
            "image/png": "[encoded data removed]",
            "text/plain": [
              "<Figure size 432x288 with 1 Axes>"
            ]
          },
          "metadata": {
            "needs_background": "light"
          },
          "output_type": "display_data"
        }
      ],
      "source": [
        "#graficar comparando la regresión lineal, de Ridge, de Lasso y de Red Elástica\n",
        "plt.scatter(x,y,label=\"Datos\")\n",
        "plt.plot(x_nuevo,y_nuevo,\"r-\",label=\"Regresión Lineal\")\n",
        "plt.plot(x_cresta,y_cresta,\"g-\",label=\"Regresión Ridge\")\n",
        "plt.plot(x_lasso,y_lasso,\"b-\",label=\"Regresión Lasso\")\n",
        "plt.plot(x_net,y_net,\"y-\",label=\"Regresión Red Elástica\")\n",
        "plt.legend()\n",
        "plt.show()"
      ]
    },
    {
      "cell_type": "markdown",
      "id": "63e78a98-5351-4126-af75-9b947fc9023b",
      "metadata": {
        "id": "63e78a98-5351-4126-af75-9b947fc9023b"
      },
      "source": [
        "***"
      ]
    },
    {
      "cell_type": "markdown",
      "id": "4cd50fab",
      "metadata": {
        "id": "4cd50fab"
      },
      "source": [
        "## <span style=\"color:green\">6. Regresión Logistica</span>"
      ]
    },
    {
      "cell_type": "markdown",
      "id": "861cafe9-3e1a-4d4a-9e01-e745b76f6e25",
      "metadata": {
        "id": "861cafe9-3e1a-4d4a-9e01-e745b76f6e25"
      },
      "source": [
        "**Modelo de Regresión Logística**"
      ]
    },
    {
      "cell_type": "markdown",
      "id": "ca7046cd",
      "metadata": {
        "id": "ca7046cd"
      },
      "source": [
        "$ \\hat{p} = L(b^Tx) $"
      ]
    },
    {
      "cell_type": "markdown",
      "id": "5a978442-9efe-4255-875e-6438b95e7605",
      "metadata": {
        "id": "5a978442-9efe-4255-875e-6438b95e7605"
      },
      "source": [
        "**Función logística**"
      ]
    },
    {
      "cell_type": "markdown",
      "id": "75c30dad",
      "metadata": {
        "id": "75c30dad"
      },
      "source": [
        "$ L = \\frac {1}{1+e^{-t}} $"
      ]
    },
    {
      "cell_type": "markdown",
      "id": "551c2845-a13f-4036-85cb-a31a6006d8dd",
      "metadata": {
        "id": "551c2845-a13f-4036-85cb-a31a6006d8dd"
      },
      "source": [
        "**Función de Costo de la Regresión Logística**"
      ]
    },
    {
      "cell_type": "markdown",
      "id": "5e8f5150",
      "metadata": {
        "id": "5e8f5150"
      },
      "source": [
        "$ J(b) = \\frac{1}{m} \\sum_{i=1}^{m}[ylog(\\hat p)+(1-y)log(1-\\hat p)] $"
      ]
    },
    {
      "cell_type": "markdown",
      "id": "d8928b99-4431-4d56-acac-d8224ee5c2c7",
      "metadata": {
        "id": "d8928b99-4431-4d56-acac-d8224ee5c2c7"
      },
      "source": [
        "**Derivada de la función de Costo**"
      ]
    },
    {
      "cell_type": "markdown",
      "id": "a732be7e",
      "metadata": {
        "id": "a732be7e"
      },
      "source": [
        "$ \\frac{\\partial}{\\partial b} J(b) $"
      ]
    },
    {
      "cell_type": "code",
      "execution_count": null,
      "id": "ae5f4a12",
      "metadata": {
        "id": "ae5f4a12",
        "outputId": "74dd1ffb-a450-40f2-d85b-4b53789078b8"
      },
      "outputs": [
        {
          "data": {
            "text/html": [
              "<div>\n",
              "<style scoped>\n",
              "    .dataframe tbody tr th:only-of-type {\n",
              "        vertical-align: middle;\n",
              "    }\n",
              "\n",
              "    .dataframe tbody tr th {\n",
              "        vertical-align: top;\n",
              "    }\n",
              "\n",
              "    .dataframe thead th {\n",
              "        text-align: right;\n",
              "    }\n",
              "</style>\n",
              "<table border=\"1\" class=\"dataframe\">\n",
              "  <thead>\n",
              "    <tr style=\"text-align: right;\">\n",
              "      <th></th>\n",
              "      <th>gmat</th>\n",
              "      <th>gpa</th>\n",
              "      <th>work_experience</th>\n",
              "      <th>admitted</th>\n",
              "    </tr>\n",
              "  </thead>\n",
              "  <tbody>\n",
              "    <tr>\n",
              "      <th>0</th>\n",
              "      <td>780</td>\n",
              "      <td>4.0</td>\n",
              "      <td>3</td>\n",
              "      <td>1</td>\n",
              "    </tr>\n",
              "    <tr>\n",
              "      <th>1</th>\n",
              "      <td>750</td>\n",
              "      <td>3.9</td>\n",
              "      <td>4</td>\n",
              "      <td>1</td>\n",
              "    </tr>\n",
              "    <tr>\n",
              "      <th>2</th>\n",
              "      <td>690</td>\n",
              "      <td>3.3</td>\n",
              "      <td>3</td>\n",
              "      <td>0</td>\n",
              "    </tr>\n",
              "    <tr>\n",
              "      <th>3</th>\n",
              "      <td>710</td>\n",
              "      <td>3.7</td>\n",
              "      <td>5</td>\n",
              "      <td>1</td>\n",
              "    </tr>\n",
              "    <tr>\n",
              "      <th>4</th>\n",
              "      <td>680</td>\n",
              "      <td>3.9</td>\n",
              "      <td>4</td>\n",
              "      <td>0</td>\n",
              "    </tr>\n",
              "  </tbody>\n",
              "</table>\n",
              "</div>"
            ],
            "text/plain": [
              "   gmat  gpa  work_experience  admitted\n",
              "0   780  4.0                3         1\n",
              "1   750  3.9                4         1\n",
              "2   690  3.3                3         0\n",
              "3   710  3.7                5         1\n",
              "4   680  3.9                4         0"
            ]
          },
          "execution_count": 26,
          "metadata": {},
          "output_type": "execute_result"
        }
      ],
      "source": [
        "#Traer el set de datos\n",
        "candidates = {'gmat': [780,750,690,710,680,730,690,720,740,690,610,690,710,680,770,610,580,650,540,590,620,600,550,550,570,670,660,580,650,660,640,620,660,660,680,650,670,580,590,690],\n",
        "              'gpa': [4,3.9,3.3,3.7,3.9,3.7,2.3,3.3,3.3,1.7,2.7,3.7,3.7,3.3,3.3,3,2.7,3.7,2.7,2.3,3.3,2,2.3,2.7,3,3.3,3.7,2.3,3.7,3.3,3,2.7,4,3.3,3.3,2.3,2.7,3.3,1.7,3.7],\n",
        "              'work_experience': [3,4,3,5,4,6,1,4,5,1,3,5,6,4,3,1,4,6,2,3,2,1,4,1,2,6,4,2,6,5,1,2,4,6,5,1,2,1,4,5],\n",
        "              'admitted': [1,1,0,1,0,1,0,1,1,0,0,1,1,0,1,0,0,1,0,0,1,0,0,0,0,1,1,0,1,1,0,0,1,1,1,0,0,0,0,1]\n",
        "              }\n",
        "#Visualizar el set de datos\n",
        "df = pd.DataFrame(candidates,columns= ['gmat', 'gpa','work_experience','admitted'])\n",
        "df.head()"
      ]
    },
    {
      "cell_type": "markdown",
      "id": "c6f4d72c-8c48-4eae-bb41-237ee2de51d7",
      "metadata": {
        "id": "c6f4d72c-8c48-4eae-bb41-237ee2de51d7"
      },
      "source": [
        "**KEY:**\n",
        "gmat: prueba de coeficiente intelectual\n",
        "gpa: es tu promedio en la escuela"
      ]
    },
    {
      "cell_type": "code",
      "execution_count": null,
      "id": "f6bf651f",
      "metadata": {
        "id": "f6bf651f"
      },
      "outputs": [],
      "source": [
        "#Dividir el set de datos en en las variables predichas y la variable a predecir\n",
        "x = df[['work_experience','gpa']]\n",
        "y = df['admitted']"
      ]
    },
    {
      "cell_type": "code",
      "execution_count": null,
      "id": "9f86a1d2",
      "metadata": {
        "id": "9f86a1d2",
        "outputId": "ec35fddf-527e-41ff-9a98-5cf81d3c905d"
      },
      "outputs": [
        {
          "data": {
            "text/plain": [
              "LogisticRegression()"
            ]
          },
          "execution_count": 28,
          "metadata": {},
          "output_type": "execute_result"
        }
      ],
      "source": [
        "#importar LogisticRegression\n",
        "from sklearn.linear_model import LogisticRegression\n",
        "clf = LogisticRegression()\n",
        "clf.fit(x,y)"
      ]
    },
    {
      "cell_type": "code",
      "execution_count": null,
      "id": "501807ff-dfcc-4e86-b5e8-06b8b4f78b08",
      "metadata": {
        "id": "501807ff-dfcc-4e86-b5e8-06b8b4f78b08"
      },
      "outputs": [],
      "source": [
        "#Hacer las predicciones\n",
        "y_pred = clf.predict(x)"
      ]
    },
    {
      "cell_type": "code",
      "execution_count": null,
      "id": "0bb5e512-4860-43f5-beb3-35dea68a8f79",
      "metadata": {
        "id": "0bb5e512-4860-43f5-beb3-35dea68a8f79",
        "outputId": "5b17fc3a-b2d7-458b-8653-f38ed3f40c61"
      },
      "outputs": [
        {
          "data": {
            "text/plain": [
              "array([1, 1, 0, 1, 1, 1, 0, 1, 1, 0, 0, 1, 1, 1, 0, 0, 0, 1, 0, 0, 0, 0,\n",
              "       0, 0, 0, 1, 1, 0, 1, 1, 0, 0, 1, 1, 1, 0, 0, 0, 0, 1])"
            ]
          },
          "execution_count": 30,
          "metadata": {},
          "output_type": "execute_result"
        }
      ],
      "source": [
        "#Visualiza y_pred\n",
        "y_pred"
      ]
    },
    {
      "cell_type": "code",
      "execution_count": null,
      "id": "1a1e7892-64b0-4a3f-a320-2a831c46affc",
      "metadata": {
        "id": "1a1e7892-64b0-4a3f-a320-2a831c46affc"
      },
      "outputs": [],
      "source": [
        "#Utilizar la función predict_proba para visualizar la probabilidad de que sea admitido\n",
        "y_proba = clf.predict_proba(x)"
      ]
    },
    {
      "cell_type": "code",
      "execution_count": null,
      "id": "7c39f3e9-462c-4294-95b5-53d75b73be42",
      "metadata": {
        "id": "7c39f3e9-462c-4294-95b5-53d75b73be42"
      },
      "outputs": [],
      "source": [
        "#Generar una lista para ver la probabilidad de ser admitidos y a los que no\n",
        "y_probano = [y_proba[i][1] for i in range(0,len(y_proba))]\n",
        "y_probasi = [y_proba[i][0] for i in range(0,len(y_proba))]"
      ]
    },
    {
      "cell_type": "code",
      "execution_count": null,
      "id": "5ab37afa",
      "metadata": {
        "id": "5ab37afa",
        "outputId": "a782c356-cec9-4d4a-d25a-515a8390fda1"
      },
      "outputs": [
        {
          "data": {
            "text/html": [
              "<div>\n",
              "<style scoped>\n",
              "    .dataframe tbody tr th:only-of-type {\n",
              "        vertical-align: middle;\n",
              "    }\n",
              "\n",
              "    .dataframe tbody tr th {\n",
              "        vertical-align: top;\n",
              "    }\n",
              "\n",
              "    .dataframe thead th {\n",
              "        text-align: right;\n",
              "    }\n",
              "</style>\n",
              "<table border=\"1\" class=\"dataframe\">\n",
              "  <thead>\n",
              "    <tr style=\"text-align: right;\">\n",
              "      <th></th>\n",
              "      <th>gmat</th>\n",
              "      <th>gpa</th>\n",
              "      <th>work_experience</th>\n",
              "      <th>admitted</th>\n",
              "      <th>predict</th>\n",
              "      <th>probano</th>\n",
              "      <th>probasi</th>\n",
              "    </tr>\n",
              "  </thead>\n",
              "  <tbody>\n",
              "    <tr>\n",
              "      <th>0</th>\n",
              "      <td>780</td>\n",
              "      <td>4.0</td>\n",
              "      <td>3</td>\n",
              "      <td>1</td>\n",
              "      <td>1</td>\n",
              "      <td>0.657716</td>\n",
              "      <td>0.342284</td>\n",
              "    </tr>\n",
              "    <tr>\n",
              "      <th>1</th>\n",
              "      <td>750</td>\n",
              "      <td>3.9</td>\n",
              "      <td>4</td>\n",
              "      <td>1</td>\n",
              "      <td>1</td>\n",
              "      <td>0.823506</td>\n",
              "      <td>0.176494</td>\n",
              "    </tr>\n",
              "    <tr>\n",
              "      <th>2</th>\n",
              "      <td>690</td>\n",
              "      <td>3.3</td>\n",
              "      <td>3</td>\n",
              "      <td>0</td>\n",
              "      <td>0</td>\n",
              "      <td>0.393787</td>\n",
              "      <td>0.606213</td>\n",
              "    </tr>\n",
              "    <tr>\n",
              "      <th>3</th>\n",
              "      <td>710</td>\n",
              "      <td>3.7</td>\n",
              "      <td>5</td>\n",
              "      <td>1</td>\n",
              "      <td>1</td>\n",
              "      <td>0.906574</td>\n",
              "      <td>0.093426</td>\n",
              "    </tr>\n",
              "    <tr>\n",
              "      <th>4</th>\n",
              "      <td>680</td>\n",
              "      <td>3.9</td>\n",
              "      <td>4</td>\n",
              "      <td>0</td>\n",
              "      <td>1</td>\n",
              "      <td>0.823506</td>\n",
              "      <td>0.176494</td>\n",
              "    </tr>\n",
              "  </tbody>\n",
              "</table>\n",
              "</div>"
            ],
            "text/plain": [
              "   gmat  gpa  work_experience  admitted  predict   probano   probasi\n",
              "0   780  4.0                3         1        1  0.657716  0.342284\n",
              "1   750  3.9                4         1        1  0.823506  0.176494\n",
              "2   690  3.3                3         0        0  0.393787  0.606213\n",
              "3   710  3.7                5         1        1  0.906574  0.093426\n",
              "4   680  3.9                4         0        1  0.823506  0.176494"
            ]
          },
          "execution_count": 39,
          "metadata": {},
          "output_type": "execute_result"
        }
      ],
      "source": [
        "#Incluir estas listas en nuestro dataframe\n",
        "df[\"predict\"] = y_pred\n",
        "df[\"probano\"] = y_probano\n",
        "df[\"probasi\"] = y_probasi\n",
        "df.head()"
      ]
    },
    {
      "cell_type": "code",
      "execution_count": null,
      "id": "c9fd8e80",
      "metadata": {
        "id": "c9fd8e80",
        "outputId": "7ed68f2f-b76c-41f9-9173-f4f480bac813"
      },
      "outputs": [
        {
          "data": {
            "text/html": [
              "<div>\n",
              "<style scoped>\n",
              "    .dataframe tbody tr th:only-of-type {\n",
              "        vertical-align: middle;\n",
              "    }\n",
              "\n",
              "    .dataframe tbody tr th {\n",
              "        vertical-align: top;\n",
              "    }\n",
              "\n",
              "    .dataframe thead th {\n",
              "        text-align: right;\n",
              "    }\n",
              "</style>\n",
              "<table border=\"1\" class=\"dataframe\">\n",
              "  <thead>\n",
              "    <tr style=\"text-align: right;\">\n",
              "      <th></th>\n",
              "      <th>gmat</th>\n",
              "      <th>gpa</th>\n",
              "      <th>work_experience</th>\n",
              "      <th>admitted</th>\n",
              "      <th>predict</th>\n",
              "      <th>probano</th>\n",
              "      <th>probasi</th>\n",
              "    </tr>\n",
              "  </thead>\n",
              "  <tbody>\n",
              "    <tr>\n",
              "      <th>38</th>\n",
              "      <td>590</td>\n",
              "      <td>1.7</td>\n",
              "      <td>4</td>\n",
              "      <td>0</td>\n",
              "      <td>0</td>\n",
              "      <td>0.133737</td>\n",
              "      <td>0.866263</td>\n",
              "    </tr>\n",
              "    <tr>\n",
              "      <th>9</th>\n",
              "      <td>690</td>\n",
              "      <td>1.7</td>\n",
              "      <td>1</td>\n",
              "      <td>0</td>\n",
              "      <td>0</td>\n",
              "      <td>0.006729</td>\n",
              "      <td>0.993271</td>\n",
              "    </tr>\n",
              "    <tr>\n",
              "      <th>21</th>\n",
              "      <td>600</td>\n",
              "      <td>2.0</td>\n",
              "      <td>1</td>\n",
              "      <td>0</td>\n",
              "      <td>0</td>\n",
              "      <td>0.010668</td>\n",
              "      <td>0.989332</td>\n",
              "    </tr>\n",
              "    <tr>\n",
              "      <th>19</th>\n",
              "      <td>590</td>\n",
              "      <td>2.3</td>\n",
              "      <td>3</td>\n",
              "      <td>0</td>\n",
              "      <td>0</td>\n",
              "      <td>0.121235</td>\n",
              "      <td>0.878765</td>\n",
              "    </tr>\n",
              "    <tr>\n",
              "      <th>22</th>\n",
              "      <td>550</td>\n",
              "      <td>2.3</td>\n",
              "      <td>4</td>\n",
              "      <td>0</td>\n",
              "      <td>0</td>\n",
              "      <td>0.281164</td>\n",
              "      <td>0.718836</td>\n",
              "    </tr>\n",
              "    <tr>\n",
              "      <th>6</th>\n",
              "      <td>690</td>\n",
              "      <td>2.3</td>\n",
              "      <td>1</td>\n",
              "      <td>0</td>\n",
              "      <td>0</td>\n",
              "      <td>0.016874</td>\n",
              "      <td>0.983126</td>\n",
              "    </tr>\n",
              "    <tr>\n",
              "      <th>27</th>\n",
              "      <td>580</td>\n",
              "      <td>2.3</td>\n",
              "      <td>2</td>\n",
              "      <td>0</td>\n",
              "      <td>0</td>\n",
              "      <td>0.046403</td>\n",
              "      <td>0.953597</td>\n",
              "    </tr>\n",
              "    <tr>\n",
              "      <th>35</th>\n",
              "      <td>650</td>\n",
              "      <td>2.3</td>\n",
              "      <td>1</td>\n",
              "      <td>0</td>\n",
              "      <td>0</td>\n",
              "      <td>0.016874</td>\n",
              "      <td>0.983126</td>\n",
              "    </tr>\n",
              "    <tr>\n",
              "      <th>10</th>\n",
              "      <td>610</td>\n",
              "      <td>2.7</td>\n",
              "      <td>3</td>\n",
              "      <td>0</td>\n",
              "      <td>0</td>\n",
              "      <td>0.204071</td>\n",
              "      <td>0.795929</td>\n",
              "    </tr>\n",
              "    <tr>\n",
              "      <th>31</th>\n",
              "      <td>620</td>\n",
              "      <td>2.7</td>\n",
              "      <td>2</td>\n",
              "      <td>0</td>\n",
              "      <td>0</td>\n",
              "      <td>0.082934</td>\n",
              "      <td>0.917066</td>\n",
              "    </tr>\n",
              "    <tr>\n",
              "      <th>23</th>\n",
              "      <td>550</td>\n",
              "      <td>2.7</td>\n",
              "      <td>1</td>\n",
              "      <td>0</td>\n",
              "      <td>0</td>\n",
              "      <td>0.030912</td>\n",
              "      <td>0.969088</td>\n",
              "    </tr>\n",
              "    <tr>\n",
              "      <th>16</th>\n",
              "      <td>580</td>\n",
              "      <td>2.7</td>\n",
              "      <td>4</td>\n",
              "      <td>0</td>\n",
              "      <td>0</td>\n",
              "      <td>0.420931</td>\n",
              "      <td>0.579069</td>\n",
              "    </tr>\n",
              "    <tr>\n",
              "      <th>18</th>\n",
              "      <td>540</td>\n",
              "      <td>2.7</td>\n",
              "      <td>2</td>\n",
              "      <td>0</td>\n",
              "      <td>0</td>\n",
              "      <td>0.082934</td>\n",
              "      <td>0.917066</td>\n",
              "    </tr>\n",
              "    <tr>\n",
              "      <th>36</th>\n",
              "      <td>670</td>\n",
              "      <td>2.7</td>\n",
              "      <td>2</td>\n",
              "      <td>0</td>\n",
              "      <td>0</td>\n",
              "      <td>0.082934</td>\n",
              "      <td>0.917066</td>\n",
              "    </tr>\n",
              "    <tr>\n",
              "      <th>30</th>\n",
              "      <td>640</td>\n",
              "      <td>3.0</td>\n",
              "      <td>1</td>\n",
              "      <td>0</td>\n",
              "      <td>0</td>\n",
              "      <td>0.048319</td>\n",
              "      <td>0.951681</td>\n",
              "    </tr>\n",
              "    <tr>\n",
              "      <th>24</th>\n",
              "      <td>570</td>\n",
              "      <td>3.0</td>\n",
              "      <td>2</td>\n",
              "      <td>0</td>\n",
              "      <td>0</td>\n",
              "      <td>0.125833</td>\n",
              "      <td>0.874167</td>\n",
              "    </tr>\n",
              "    <tr>\n",
              "      <th>15</th>\n",
              "      <td>610</td>\n",
              "      <td>3.0</td>\n",
              "      <td>1</td>\n",
              "      <td>0</td>\n",
              "      <td>0</td>\n",
              "      <td>0.048319</td>\n",
              "      <td>0.951681</td>\n",
              "    </tr>\n",
              "    <tr>\n",
              "      <th>25</th>\n",
              "      <td>670</td>\n",
              "      <td>3.3</td>\n",
              "      <td>6</td>\n",
              "      <td>1</td>\n",
              "      <td>1</td>\n",
              "      <td>0.936722</td>\n",
              "      <td>0.063278</td>\n",
              "    </tr>\n",
              "    <tr>\n",
              "      <th>37</th>\n",
              "      <td>580</td>\n",
              "      <td>3.3</td>\n",
              "      <td>1</td>\n",
              "      <td>0</td>\n",
              "      <td>0</td>\n",
              "      <td>0.074772</td>\n",
              "      <td>0.925228</td>\n",
              "    </tr>\n",
              "    <tr>\n",
              "      <th>2</th>\n",
              "      <td>690</td>\n",
              "      <td>3.3</td>\n",
              "      <td>3</td>\n",
              "      <td>0</td>\n",
              "      <td>0</td>\n",
              "      <td>0.393787</td>\n",
              "      <td>0.606213</td>\n",
              "    </tr>\n",
              "    <tr>\n",
              "      <th>7</th>\n",
              "      <td>720</td>\n",
              "      <td>3.3</td>\n",
              "      <td>4</td>\n",
              "      <td>1</td>\n",
              "      <td>1</td>\n",
              "      <td>0.648093</td>\n",
              "      <td>0.351907</td>\n",
              "    </tr>\n",
              "    <tr>\n",
              "      <th>34</th>\n",
              "      <td>680</td>\n",
              "      <td>3.3</td>\n",
              "      <td>5</td>\n",
              "      <td>1</td>\n",
              "      <td>1</td>\n",
              "      <td>0.839263</td>\n",
              "      <td>0.160737</td>\n",
              "    </tr>\n",
              "    <tr>\n",
              "      <th>14</th>\n",
              "      <td>770</td>\n",
              "      <td>3.3</td>\n",
              "      <td>3</td>\n",
              "      <td>1</td>\n",
              "      <td>0</td>\n",
              "      <td>0.393787</td>\n",
              "      <td>0.606213</td>\n",
              "    </tr>\n",
              "    <tr>\n",
              "      <th>29</th>\n",
              "      <td>660</td>\n",
              "      <td>3.3</td>\n",
              "      <td>5</td>\n",
              "      <td>1</td>\n",
              "      <td>1</td>\n",
              "      <td>0.839263</td>\n",
              "      <td>0.160737</td>\n",
              "    </tr>\n",
              "    <tr>\n",
              "      <th>33</th>\n",
              "      <td>660</td>\n",
              "      <td>3.3</td>\n",
              "      <td>6</td>\n",
              "      <td>1</td>\n",
              "      <td>1</td>\n",
              "      <td>0.936722</td>\n",
              "      <td>0.063278</td>\n",
              "    </tr>\n",
              "    <tr>\n",
              "      <th>8</th>\n",
              "      <td>740</td>\n",
              "      <td>3.3</td>\n",
              "      <td>5</td>\n",
              "      <td>1</td>\n",
              "      <td>1</td>\n",
              "      <td>0.839263</td>\n",
              "      <td>0.160737</td>\n",
              "    </tr>\n",
              "    <tr>\n",
              "      <th>20</th>\n",
              "      <td>620</td>\n",
              "      <td>3.3</td>\n",
              "      <td>2</td>\n",
              "      <td>1</td>\n",
              "      <td>0</td>\n",
              "      <td>0.186410</td>\n",
              "      <td>0.813590</td>\n",
              "    </tr>\n",
              "    <tr>\n",
              "      <th>13</th>\n",
              "      <td>680</td>\n",
              "      <td>3.3</td>\n",
              "      <td>4</td>\n",
              "      <td>0</td>\n",
              "      <td>1</td>\n",
              "      <td>0.648093</td>\n",
              "      <td>0.351907</td>\n",
              "    </tr>\n",
              "    <tr>\n",
              "      <th>39</th>\n",
              "      <td>690</td>\n",
              "      <td>3.7</td>\n",
              "      <td>5</td>\n",
              "      <td>1</td>\n",
              "      <td>1</td>\n",
              "      <td>0.906574</td>\n",
              "      <td>0.093426</td>\n",
              "    </tr>\n",
              "    <tr>\n",
              "      <th>26</th>\n",
              "      <td>660</td>\n",
              "      <td>3.7</td>\n",
              "      <td>4</td>\n",
              "      <td>1</td>\n",
              "      <td>1</td>\n",
              "      <td>0.773891</td>\n",
              "      <td>0.226109</td>\n",
              "    </tr>\n",
              "    <tr>\n",
              "      <th>17</th>\n",
              "      <td>650</td>\n",
              "      <td>3.7</td>\n",
              "      <td>6</td>\n",
              "      <td>1</td>\n",
              "      <td>1</td>\n",
              "      <td>0.964926</td>\n",
              "      <td>0.035074</td>\n",
              "    </tr>\n",
              "    <tr>\n",
              "      <th>12</th>\n",
              "      <td>710</td>\n",
              "      <td>3.7</td>\n",
              "      <td>6</td>\n",
              "      <td>1</td>\n",
              "      <td>1</td>\n",
              "      <td>0.964926</td>\n",
              "      <td>0.035074</td>\n",
              "    </tr>\n",
              "    <tr>\n",
              "      <th>11</th>\n",
              "      <td>690</td>\n",
              "      <td>3.7</td>\n",
              "      <td>5</td>\n",
              "      <td>1</td>\n",
              "      <td>1</td>\n",
              "      <td>0.906574</td>\n",
              "      <td>0.093426</td>\n",
              "    </tr>\n",
              "    <tr>\n",
              "      <th>5</th>\n",
              "      <td>730</td>\n",
              "      <td>3.7</td>\n",
              "      <td>6</td>\n",
              "      <td>1</td>\n",
              "      <td>1</td>\n",
              "      <td>0.964926</td>\n",
              "      <td>0.035074</td>\n",
              "    </tr>\n",
              "    <tr>\n",
              "      <th>3</th>\n",
              "      <td>710</td>\n",
              "      <td>3.7</td>\n",
              "      <td>5</td>\n",
              "      <td>1</td>\n",
              "      <td>1</td>\n",
              "      <td>0.906574</td>\n",
              "      <td>0.093426</td>\n",
              "    </tr>\n",
              "    <tr>\n",
              "      <th>28</th>\n",
              "      <td>650</td>\n",
              "      <td>3.7</td>\n",
              "      <td>6</td>\n",
              "      <td>1</td>\n",
              "      <td>1</td>\n",
              "      <td>0.964926</td>\n",
              "      <td>0.035074</td>\n",
              "    </tr>\n",
              "    <tr>\n",
              "      <th>4</th>\n",
              "      <td>680</td>\n",
              "      <td>3.9</td>\n",
              "      <td>4</td>\n",
              "      <td>0</td>\n",
              "      <td>1</td>\n",
              "      <td>0.823506</td>\n",
              "      <td>0.176494</td>\n",
              "    </tr>\n",
              "    <tr>\n",
              "      <th>1</th>\n",
              "      <td>750</td>\n",
              "      <td>3.9</td>\n",
              "      <td>4</td>\n",
              "      <td>1</td>\n",
              "      <td>1</td>\n",
              "      <td>0.823506</td>\n",
              "      <td>0.176494</td>\n",
              "    </tr>\n",
              "    <tr>\n",
              "      <th>32</th>\n",
              "      <td>660</td>\n",
              "      <td>4.0</td>\n",
              "      <td>4</td>\n",
              "      <td>1</td>\n",
              "      <td>1</td>\n",
              "      <td>0.844910</td>\n",
              "      <td>0.155090</td>\n",
              "    </tr>\n",
              "    <tr>\n",
              "      <th>0</th>\n",
              "      <td>780</td>\n",
              "      <td>4.0</td>\n",
              "      <td>3</td>\n",
              "      <td>1</td>\n",
              "      <td>1</td>\n",
              "      <td>0.657716</td>\n",
              "      <td>0.342284</td>\n",
              "    </tr>\n",
              "  </tbody>\n",
              "</table>\n",
              "</div>"
            ],
            "text/plain": [
              "    gmat  gpa  work_experience  admitted  predict   probano   probasi\n",
              "38   590  1.7                4         0        0  0.133737  0.866263\n",
              "9    690  1.7                1         0        0  0.006729  0.993271\n",
              "21   600  2.0                1         0        0  0.010668  0.989332\n",
              "19   590  2.3                3         0        0  0.121235  0.878765\n",
              "22   550  2.3                4         0        0  0.281164  0.718836\n",
              "6    690  2.3                1         0        0  0.016874  0.983126\n",
              "27   580  2.3                2         0        0  0.046403  0.953597\n",
              "35   650  2.3                1         0        0  0.016874  0.983126\n",
              "10   610  2.7                3         0        0  0.204071  0.795929\n",
              "31   620  2.7                2         0        0  0.082934  0.917066\n",
              "23   550  2.7                1         0        0  0.030912  0.969088\n",
              "16   580  2.7                4         0        0  0.420931  0.579069\n",
              "18   540  2.7                2         0        0  0.082934  0.917066\n",
              "36   670  2.7                2         0        0  0.082934  0.917066\n",
              "30   640  3.0                1         0        0  0.048319  0.951681\n",
              "24   570  3.0                2         0        0  0.125833  0.874167\n",
              "15   610  3.0                1         0        0  0.048319  0.951681\n",
              "25   670  3.3                6         1        1  0.936722  0.063278\n",
              "37   580  3.3                1         0        0  0.074772  0.925228\n",
              "2    690  3.3                3         0        0  0.393787  0.606213\n",
              "7    720  3.3                4         1        1  0.648093  0.351907\n",
              "34   680  3.3                5         1        1  0.839263  0.160737\n",
              "14   770  3.3                3         1        0  0.393787  0.606213\n",
              "29   660  3.3                5         1        1  0.839263  0.160737\n",
              "33   660  3.3                6         1        1  0.936722  0.063278\n",
              "8    740  3.3                5         1        1  0.839263  0.160737\n",
              "20   620  3.3                2         1        0  0.186410  0.813590\n",
              "13   680  3.3                4         0        1  0.648093  0.351907\n",
              "39   690  3.7                5         1        1  0.906574  0.093426\n",
              "26   660  3.7                4         1        1  0.773891  0.226109\n",
              "17   650  3.7                6         1        1  0.964926  0.035074\n",
              "12   710  3.7                6         1        1  0.964926  0.035074\n",
              "11   690  3.7                5         1        1  0.906574  0.093426\n",
              "5    730  3.7                6         1        1  0.964926  0.035074\n",
              "3    710  3.7                5         1        1  0.906574  0.093426\n",
              "28   650  3.7                6         1        1  0.964926  0.035074\n",
              "4    680  3.9                4         0        1  0.823506  0.176494\n",
              "1    750  3.9                4         1        1  0.823506  0.176494\n",
              "32   660  4.0                4         1        1  0.844910  0.155090\n",
              "0    780  4.0                3         1        1  0.657716  0.342284"
            ]
          },
          "execution_count": 45,
          "metadata": {},
          "output_type": "execute_result"
        }
      ],
      "source": [
        "#Visualizar el peso de la experiencia laboral, de gmat y de gpa\n",
        "df.sort_values(by=[\"work_experience\"])\n",
        "df.sort_values(by=[\"gmat\"])\n",
        "df.sort_values(by=[\"gpa\"])"
      ]
    },
    {
      "cell_type": "code",
      "execution_count": null,
      "id": "f5e025be-e461-45e8-b14f-a41c135d8849",
      "metadata": {
        "id": "f5e025be-e461-45e8-b14f-a41c135d8849",
        "outputId": "e9f9093c-2526-4da8-fb05-18fc32737e27"
      },
      "outputs": [
        {
          "data": {
            "text/plain": [
              "array([[19,  2],\n",
              "       [ 2, 17]])"
            ]
          },
          "execution_count": 46,
          "metadata": {},
          "output_type": "execute_result"
        }
      ],
      "source": [
        "#Evaluar la regresión con métricas como la matriz de confusión\n",
        "from sklearn.metrics import confusion_matrix\n",
        "confusion_matrix(y_pred, y)"
      ]
    },
    {
      "cell_type": "code",
      "execution_count": null,
      "id": "e0fb2f9a-668b-4a91-99ea-3911ea311b92",
      "metadata": {
        "id": "e0fb2f9a-668b-4a91-99ea-3911ea311b92",
        "outputId": "5c9647d1-019b-42ee-ad1e-3f75d1453460"
      },
      "outputs": [
        {
          "data": {
            "text/plain": [
              "0.8947368421052632"
            ]
          },
          "execution_count": 48,
          "metadata": {},
          "output_type": "execute_result"
        }
      ],
      "source": [
        "#Evaluar la regresión con métricas como f1_score\n",
        "from sklearn.metrics import f1_score\n",
        "f1_score(y_pred, y)"
      ]
    },
    {
      "cell_type": "markdown",
      "id": "231ab8a8",
      "metadata": {
        "id": "231ab8a8"
      },
      "source": [
        "## <span style=\"color:green\">6. Regresión Softmax</span>"
      ]
    },
    {
      "cell_type": "markdown",
      "id": "b4e45005",
      "metadata": {
        "id": "b4e45005"
      },
      "source": [
        "$ claseA(x) = (b^A)^T x $\n",
        "\n",
        "$ claseB(x) = (b^B)^T x $\n",
        "\n",
        "$ claseC(x) = (b^C)^T x $"
      ]
    },
    {
      "cell_type": "markdown",
      "id": "8faf8ac9",
      "metadata": {
        "id": "8faf8ac9"
      },
      "source": [
        "$\\hat p_A = L(claseA(x)) $\n",
        "\n",
        "$ \\hat p_B = L(claseB(x))$\n",
        "\n",
        "$ \\hat p_C = L(claseC(x))$"
      ]
    },
    {
      "cell_type": "markdown",
      "id": "709f33ac",
      "metadata": {
        "id": "709f33ac"
      },
      "source": [
        "$ L = \\frac{e^x}{\\sum_{i=1}^{m} e^x }  $"
      ]
    },
    {
      "cell_type": "code",
      "execution_count": null,
      "id": "b3633831",
      "metadata": {
        "id": "b3633831"
      },
      "outputs": [],
      "source": [
        "#Importar LogisticRegression\n",
        "from sklearn.linear_model import LogisticRegression\n",
        "clf = LogisticRegression(multi_class=\"multinomial\")\n",
        "clf.fit(x,y)\n",
        "y_pred = clf.predict(x)"
      ]
    }
  ],
  "metadata": {
    "kernelspec": {
      "display_name": "Python 3 (ipykernel)",
      "language": "python",
      "name": "python3"
    },
    "language_info": {
      "codemirror_mode": {
        "name": "ipython",
        "version": 3
      },
      "file_extension": ".py",
      "mimetype": "text/x-python",
      "name": "python",
      "nbconvert_exporter": "python",
      "pygments_lexer": "ipython3",
      "version": "3.9.7"
    },
    "colab": {
      "provenance": [],
      "include_colab_link": true
    }
  },
  "nbformat": 4,
  "nbformat_minor": 5
}